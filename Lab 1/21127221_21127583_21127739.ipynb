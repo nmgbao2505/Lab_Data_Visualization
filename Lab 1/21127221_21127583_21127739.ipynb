{
 "cells": [
  {
   "cell_type": "markdown",
   "metadata": {},
   "source": [
    "<div style=\"text-align: center; background-color: #0A6EBD; font-family: 'Trebuchet MS', Arial, sans-serif; color: white; padding: 20px; font-size: 40px; font-weight: bold; border-radius: 0 0 0 0; box-shadow: 0px 6px 8px rgba(0, 0, 0, 0.2);\">\n",
    "  Lab 01 - Titanic\n",
    "</div>"
   ]
  },
  {
   "cell_type": "markdown",
   "metadata": {},
   "source": [
    "#### Thành viên 1:\n",
    "##### * **Họ và tên:** Võ Duy Anh\n",
    "##### * **MSSV:** 21127221\n",
    "\n",
    "\n",
    "#### Thành viên 2:\n",
    "##### * **Họ và tên:** Nguyễn Mậu Gia Bảo\n",
    "##### * **MSSV:** 21127583\n",
    "\n",
    "\n",
    "#### Thành viên 3:\n",
    "##### * **Họ và tên:** Vũ Minh Phát\n",
    "##### * **MSSV:** 21127739"
   ]
  },
  {
   "cell_type": "markdown",
   "metadata": {},
   "source": [
    "### **Thư viện hỗ trợ**"
   ]
  },
  {
   "cell_type": "code",
   "execution_count": 1,
   "metadata": {},
   "outputs": [],
   "source": [
    "import pandas as pd\n",
    "import seaborn as sns\n",
    "import matplotlib.pyplot as plt\n",
    "import numpy as np\n",
    "\n",
    "import warnings\n",
    "warnings.filterwarnings(\"ignore\")"
   ]
  },
  {
   "cell_type": "markdown",
   "metadata": {},
   "source": [
    "### **1. Khám phá dữ liệu**"
   ]
  },
  {
   "cell_type": "markdown",
   "metadata": {},
   "source": [
    "#### 📌 Đọc dữ liệu từ file"
   ]
  },
  {
   "cell_type": "code",
   "execution_count": 2,
   "metadata": {},
   "outputs": [
    {
     "data": {
      "text/html": [
       "<div>\n",
       "<style scoped>\n",
       "    .dataframe tbody tr th:only-of-type {\n",
       "        vertical-align: middle;\n",
       "    }\n",
       "\n",
       "    .dataframe tbody tr th {\n",
       "        vertical-align: top;\n",
       "    }\n",
       "\n",
       "    .dataframe thead th {\n",
       "        text-align: right;\n",
       "    }\n",
       "</style>\n",
       "<table border=\"1\" class=\"dataframe\">\n",
       "  <thead>\n",
       "    <tr style=\"text-align: right;\">\n",
       "      <th></th>\n",
       "      <th>PassengerId</th>\n",
       "      <th>Survived</th>\n",
       "      <th>Pclass</th>\n",
       "      <th>Name</th>\n",
       "      <th>Sex</th>\n",
       "      <th>Age</th>\n",
       "      <th>SibSp</th>\n",
       "      <th>Parch</th>\n",
       "      <th>Ticket</th>\n",
       "      <th>Fare</th>\n",
       "      <th>Cabin</th>\n",
       "      <th>Embarked</th>\n",
       "    </tr>\n",
       "  </thead>\n",
       "  <tbody>\n",
       "    <tr>\n",
       "      <th>0</th>\n",
       "      <td>1</td>\n",
       "      <td>0</td>\n",
       "      <td>3</td>\n",
       "      <td>Braund, Mr. Owen Harris</td>\n",
       "      <td>male</td>\n",
       "      <td>22.0</td>\n",
       "      <td>1</td>\n",
       "      <td>0</td>\n",
       "      <td>A/5 21171</td>\n",
       "      <td>7.2500</td>\n",
       "      <td>NaN</td>\n",
       "      <td>S</td>\n",
       "    </tr>\n",
       "    <tr>\n",
       "      <th>1</th>\n",
       "      <td>2</td>\n",
       "      <td>1</td>\n",
       "      <td>1</td>\n",
       "      <td>Cumings, Mrs. John Bradley (Florence Briggs Th...</td>\n",
       "      <td>female</td>\n",
       "      <td>38.0</td>\n",
       "      <td>1</td>\n",
       "      <td>0</td>\n",
       "      <td>PC 17599</td>\n",
       "      <td>71.2833</td>\n",
       "      <td>C85</td>\n",
       "      <td>C</td>\n",
       "    </tr>\n",
       "    <tr>\n",
       "      <th>2</th>\n",
       "      <td>3</td>\n",
       "      <td>1</td>\n",
       "      <td>3</td>\n",
       "      <td>Heikkinen, Miss. Laina</td>\n",
       "      <td>female</td>\n",
       "      <td>26.0</td>\n",
       "      <td>0</td>\n",
       "      <td>0</td>\n",
       "      <td>STON/O2. 3101282</td>\n",
       "      <td>7.9250</td>\n",
       "      <td>NaN</td>\n",
       "      <td>S</td>\n",
       "    </tr>\n",
       "    <tr>\n",
       "      <th>3</th>\n",
       "      <td>4</td>\n",
       "      <td>1</td>\n",
       "      <td>1</td>\n",
       "      <td>Futrelle, Mrs. Jacques Heath (Lily May Peel)</td>\n",
       "      <td>female</td>\n",
       "      <td>35.0</td>\n",
       "      <td>1</td>\n",
       "      <td>0</td>\n",
       "      <td>113803</td>\n",
       "      <td>53.1000</td>\n",
       "      <td>C123</td>\n",
       "      <td>S</td>\n",
       "    </tr>\n",
       "    <tr>\n",
       "      <th>4</th>\n",
       "      <td>5</td>\n",
       "      <td>0</td>\n",
       "      <td>3</td>\n",
       "      <td>Allen, Mr. William Henry</td>\n",
       "      <td>male</td>\n",
       "      <td>35.0</td>\n",
       "      <td>0</td>\n",
       "      <td>0</td>\n",
       "      <td>373450</td>\n",
       "      <td>8.0500</td>\n",
       "      <td>NaN</td>\n",
       "      <td>S</td>\n",
       "    </tr>\n",
       "  </tbody>\n",
       "</table>\n",
       "</div>"
      ],
      "text/plain": [
       "   PassengerId  Survived  Pclass  \\\n",
       "0            1         0       3   \n",
       "1            2         1       1   \n",
       "2            3         1       3   \n",
       "3            4         1       1   \n",
       "4            5         0       3   \n",
       "\n",
       "                                                Name     Sex   Age  SibSp  \\\n",
       "0                            Braund, Mr. Owen Harris    male  22.0      1   \n",
       "1  Cumings, Mrs. John Bradley (Florence Briggs Th...  female  38.0      1   \n",
       "2                             Heikkinen, Miss. Laina  female  26.0      0   \n",
       "3       Futrelle, Mrs. Jacques Heath (Lily May Peel)  female  35.0      1   \n",
       "4                           Allen, Mr. William Henry    male  35.0      0   \n",
       "\n",
       "   Parch            Ticket     Fare Cabin Embarked  \n",
       "0      0         A/5 21171   7.2500   NaN        S  \n",
       "1      0          PC 17599  71.2833   C85        C  \n",
       "2      0  STON/O2. 3101282   7.9250   NaN        S  \n",
       "3      0            113803  53.1000  C123        S  \n",
       "4      0            373450   8.0500   NaN        S  "
      ]
     },
     "execution_count": 2,
     "metadata": {},
     "output_type": "execute_result"
    }
   ],
   "source": [
    "train_df = pd.read_csv('titanic/train.csv')\n",
    "train_df.head()"
   ]
  },
  {
   "cell_type": "markdown",
   "metadata": {},
   "source": [
    "#### 📌 Dữ liệu có bao nhiêu hàng và bao nhiêu cột?"
   ]
  },
  {
   "cell_type": "code",
   "execution_count": 3,
   "metadata": {},
   "outputs": [
    {
     "name": "stdout",
     "output_type": "stream",
     "text": [
      "Dữ liệu có 891 hàng và 12 cột\n"
     ]
    }
   ],
   "source": [
    "row,col = train_df.shape\n",
    "print(f'Dữ liệu có {row} hàng và {col} cột')"
   ]
  },
  {
   "cell_type": "markdown",
   "metadata": {},
   "source": [
    "#### 📌 Ý nghĩa của mỗi hàng là gì?"
   ]
  },
  {
   "cell_type": "markdown",
   "metadata": {},
   "source": [
    "Mỗi hàng cung cấp thông tin chi tiết về một hành khách cụ thể, bao gồm thông tin như: tuổi, giới tính, số lượng người đi cùng, v.v. và liệu họ có sống sót sau thảm họa đắm tàu Titanic không."
   ]
  },
  {
   "cell_type": "markdown",
   "metadata": {},
   "source": [
    "####  📌 Dữ liệu có các dòng bị lặp không?"
   ]
  },
  {
   "cell_type": "code",
   "execution_count": 4,
   "metadata": {},
   "outputs": [
    {
     "name": "stdout",
     "output_type": "stream",
     "text": [
      "Dữ liệu không có dòng bị trùng lặp!\n"
     ]
    }
   ],
   "source": [
    "detectDupSeries = train_df.duplicated(keep='first')\n",
    "num_duplicated_rows = detectDupSeries.sum()\n",
    "\n",
    "if num_duplicated_rows == 0:\n",
    "    print(\"Dữ liệu không có dòng bị trùng lặp!\")\n",
    "else:\n",
    "    print(f\"Dữ liệu có {num_duplicated_rows} dòng bị trùng lặp.\")"
   ]
  },
  {
   "cell_type": "code",
   "execution_count": 5,
   "metadata": {},
   "outputs": [
    {
     "name": "stdout",
     "output_type": "stream",
     "text": [
      "Tỷ lệ trùng lặp của dữ liệu là: 0.00%\n"
     ]
    }
   ],
   "source": [
    "duplicate_ratio = num_duplicated_rows / len(train_df)\n",
    "print(f\"Tỷ lệ trùng lặp của dữ liệu là: {duplicate_ratio:.2%}\")"
   ]
  },
  {
   "cell_type": "markdown",
   "metadata": {},
   "source": [
    "#### 📌 Ý nghĩa của mỗi cột là gì?"
   ]
  },
  {
   "cell_type": "markdown",
   "metadata": {},
   "source": [
    "<table style=\"width: 100%; border-collapse: collapse;\">\n",
    "  <thead>\n",
    "    <tr>\n",
    "      <th style=\"min-width: 10px; width: 30px; background-color: #04B1CC; color: white; font-size :15px; font-weight: bold; text-align: left; padding: 8px;\">STT</th>\n",
    "      <th style=\"background-color: #04B1CC; color: white; font-size :15px; font-weight: bold; text-align: left; padding: 8px;\">Cột</th>\n",
    "      <th style=\"background-color: #04B1CC; color: white; font-size :15px; font-weight: bold; text-align: left; padding: 8px;\">Ý nghĩa</th>\n",
    "    </tr>\n",
    "  </thead>\n",
    "  <tbody>\n",
    "    <tr>\n",
    "      <td style=\"font-size: 14px; text-align: left;\">1</td>\n",
    "      <td style=\"font-size: 14px; text-align: left;\">PassengerId</td>\n",
    "      <td style=\"font-size: 14px; text-align: left;\">Mã định danh (ID) cho mỗi hành khách.</td>\n",
    "    </tr>\n",
    "    <tr>\n",
    "      <td style=\"font-size: 14px; text-align: left;\">2</td>\n",
    "      <td style=\"font-size: 14px; text-align: left;\">Survived</td>\n",
    "      <td style=\"font-size: 14px; text-align: left;\">Chỉ ra liệu hành khách có sống sót sau vụ đắm tàu Titanic hay không (1: sống sót, 0: không sống sót).</td>\n",
    "    </tr>\n",
    "    <tr>\n",
    "      <td style=\"font-size: 14px; text-align: left;\">3</td>\n",
    "      <td style=\"font-size: 14px; text-align: left;\">Pclass</td>\n",
    "      <td style=\"font-size: 14px; text-align: left;\">Loại hạng vé của hành khách (1 = Hạng 1, 2 = Hạng 2, 3 = Hạng 3).</td>\n",
    "    </tr>\n",
    "    <tr>\n",
    "      <td style=\"font-size: 14px; text-align: left;\">4</td>\n",
    "      <td style=\"font-size: 14px; text-align: left;\">Name</td>\n",
    "      <td style=\"font-size: 14px; text-align: left;\">Tên của hành khách.</td>\n",
    "    </tr>\n",
    "    <tr>\n",
    "      <td style=\"font-size: 14px; text-align: left;\">5</td>\n",
    "      <td style=\"font-size: 14px; text-align: left;\">Sex</td>\n",
    "      <td style=\"font-size: 14px; text-align: left;\">Giới tính của hành khách.</td>\n",
    "    </tr>\n",
    "    <tr>\n",
    "      <td style=\"font-size: 14px; text-align: left;\">6</td>\n",
    "      <td style=\"font-size: 14px; text-align: left;\">Age</td>\n",
    "      <td style=\"font-size: 14px; text-align: left;\">Tuổi của hành khách.</td>\n",
    "    </tr>\n",
    "    <tr>\n",
    "      <td style=\"font-size: 14px; text-align: left;\">7</td>\n",
    "      <td style=\"font-size: 14px; text-align: left;\">SibSp</td>\n",
    "      <td style=\"font-size: 14px; text-align: left;\">Số lượng anh chị em hoặc vợ/chồng đi cùng trên tàu (Siblings/Spouses).</td>\n",
    "    </tr>\n",
    "    <tr>\n",
    "      <td style=\"font-size: 14px; text-align: left;\">8</td>\n",
    "      <td style=\"font-size: 14px; text-align: left;\">Parch</td>\n",
    "      <td style=\"font-size: 14px; text-align: left;\">Số lượng cha mẹ hoặc con cái đi cùng trên tàu (Parents/Children).</td>\n",
    "    </tr>\n",
    "    <tr>\n",
    "      <td style=\"font-size: 14px; text-align: left;\">9</td>\n",
    "      <td style=\"font-size: 14px; text-align: left;\">Ticket</td>\n",
    "      <td style=\"font-size: 14px; text-align: left;\">Số vé.</td>\n",
    "    </tr>\n",
    "    <tr>\n",
    "      <td style=\"font-size: 14px; text-align: left;\">10</td>\n",
    "      <td style=\"font-size: 14px; text-align: left;\">Fare</td>\n",
    "      <td style=\"font-size: 14px; text-align: left;\">Giá vé.</td>\n",
    "    </tr>\n",
    "    <tr>\n",
    "      <td style=\"font-size: 14px; text-align: left;\">11</td>\n",
    "      <td style=\"font-size: 14px; text-align: left;\">Cabin</td>\n",
    "      <td style=\"font-size: 14px; text-align: left;\">Số cabin của hành khách.</td>\n",
    "    </tr>\n",
    "    <tr>\n",
    "      <td style=\"font-size: 14px; text-align: left;\">12</td>\n",
    "      <td style=\"font-size: 14px; text-align: left;\">Embarked</td>\n",
    "      <td style=\"font-size: 14px; text-align: left;\">Cảng mà hành khách lên tàu (C = Cherbourg, Q = Queenstown, S = Southampton).</td>\n",
    "    </tr>\n",
    "  </tbody>\n",
    "</table>"
   ]
  },
  {
   "cell_type": "markdown",
   "metadata": {},
   "source": [
    "#### 📌 Kiểu dữ liệu hiện tại của mỗi cột là gì? Có cột nào có kiểu dữ liệu không phù hợp không?"
   ]
  },
  {
   "cell_type": "code",
   "execution_count": 6,
   "metadata": {},
   "outputs": [
    {
     "name": "stdout",
     "output_type": "stream",
     "text": [
      "<class 'pandas.core.frame.DataFrame'>\n",
      "RangeIndex: 891 entries, 0 to 890\n",
      "Data columns (total 12 columns):\n",
      " #   Column       Non-Null Count  Dtype  \n",
      "---  ------       --------------  -----  \n",
      " 0   PassengerId  891 non-null    int64  \n",
      " 1   Survived     891 non-null    int64  \n",
      " 2   Pclass       891 non-null    int64  \n",
      " 3   Name         891 non-null    object \n",
      " 4   Sex          891 non-null    object \n",
      " 5   Age          714 non-null    float64\n",
      " 6   SibSp        891 non-null    int64  \n",
      " 7   Parch        891 non-null    int64  \n",
      " 8   Ticket       891 non-null    object \n",
      " 9   Fare         891 non-null    float64\n",
      " 10  Cabin        204 non-null    object \n",
      " 11  Embarked     889 non-null    object \n",
      "dtypes: float64(2), int64(5), object(5)\n",
      "memory usage: 83.7+ KB\n"
     ]
    }
   ],
   "source": [
    "train_df.info()"
   ]
  },
  {
   "cell_type": "markdown",
   "metadata": {},
   "source": [
    "- Cột `PassengerId` là mã định danh cho từng hành khách nên cần chuyển về object để phân vào categorical.\n",
    "- Cột `Survived` là biến dạng nhị phân để thể hiện trạng thái sống sót hay không, do đó cần chuyển về object để phân vào categorical.\n",
    "- Cột `Pclass` là cột thể hiện cho loại vé của khách hàng, do đó chuyển về object để phân vào biến định tính có thứ tự.\n",
    "- Cột `Age` là cột thể hiện cho độ tuổi của khách hàng, cần chuyển về dạng int64."
   ]
  },
  {
   "cell_type": "code",
   "execution_count": 7,
   "metadata": {},
   "outputs": [],
   "source": [
    "train_df['PassengerId'] = train_df['PassengerId'].astype('object')\n",
    "train_df['Survived'] = train_df['Survived'].astype('object')\n",
    "\n",
    "train_df['Pclass'] = train_df['Pclass'].astype('object')"
   ]
  },
  {
   "cell_type": "markdown",
   "metadata": {},
   "source": [
    "#### 📌 Đối với mỗi cột có kiểu dữ liệu số, các giá trị được phân bố như thế nào?"
   ]
  },
  {
   "cell_type": "markdown",
   "metadata": {},
   "source": [
    "📚 Đối với các cột có kiểu dữ liệu số, nhóm sẽ tính toán một số thống kê cơ bản:\n",
    "- Tỷ lệ phần trăm (từ 0 đến 100) giá trị bị thiếu\n",
    "- The min\n",
    "- The lower quartile (phân vị 25)\n",
    "- The median (phân vị 50)\n",
    "- The upper quartile (phân vị 75)\n",
    "- The max\n"
   ]
  },
  {
   "cell_type": "code",
   "execution_count": 8,
   "metadata": {},
   "outputs": [
    {
     "data": {
      "text/html": [
       "<div>\n",
       "<style scoped>\n",
       "    .dataframe tbody tr th:only-of-type {\n",
       "        vertical-align: middle;\n",
       "    }\n",
       "\n",
       "    .dataframe tbody tr th {\n",
       "        vertical-align: top;\n",
       "    }\n",
       "\n",
       "    .dataframe thead th {\n",
       "        text-align: right;\n",
       "    }\n",
       "</style>\n",
       "<table border=\"1\" class=\"dataframe\">\n",
       "  <thead>\n",
       "    <tr style=\"text-align: right;\">\n",
       "      <th></th>\n",
       "      <th>missing_ratio</th>\n",
       "      <th>min</th>\n",
       "      <th>lower_quartile</th>\n",
       "      <th>median</th>\n",
       "      <th>upper_quartile</th>\n",
       "      <th>max</th>\n",
       "    </tr>\n",
       "  </thead>\n",
       "  <tbody>\n",
       "    <tr>\n",
       "      <th>Age</th>\n",
       "      <td>19.86532</td>\n",
       "      <td>0.42</td>\n",
       "      <td>20.1250</td>\n",
       "      <td>28.0000</td>\n",
       "      <td>38.0</td>\n",
       "      <td>80.0000</td>\n",
       "    </tr>\n",
       "    <tr>\n",
       "      <th>SibSp</th>\n",
       "      <td>0.00000</td>\n",
       "      <td>0.00</td>\n",
       "      <td>0.0000</td>\n",
       "      <td>0.0000</td>\n",
       "      <td>1.0</td>\n",
       "      <td>8.0000</td>\n",
       "    </tr>\n",
       "    <tr>\n",
       "      <th>Parch</th>\n",
       "      <td>0.00000</td>\n",
       "      <td>0.00</td>\n",
       "      <td>0.0000</td>\n",
       "      <td>0.0000</td>\n",
       "      <td>0.0</td>\n",
       "      <td>6.0000</td>\n",
       "    </tr>\n",
       "    <tr>\n",
       "      <th>Fare</th>\n",
       "      <td>0.00000</td>\n",
       "      <td>0.00</td>\n",
       "      <td>7.9104</td>\n",
       "      <td>14.4542</td>\n",
       "      <td>31.0</td>\n",
       "      <td>512.3292</td>\n",
       "    </tr>\n",
       "  </tbody>\n",
       "</table>\n",
       "</div>"
      ],
      "text/plain": [
       "       missing_ratio   min  lower_quartile   median  upper_quartile       max\n",
       "Age         19.86532  0.42         20.1250  28.0000            38.0   80.0000\n",
       "SibSp        0.00000  0.00          0.0000   0.0000             1.0    8.0000\n",
       "Parch        0.00000  0.00          0.0000   0.0000             0.0    6.0000\n",
       "Fare         0.00000  0.00          7.9104  14.4542            31.0  512.3292"
      ]
     },
     "execution_count": 8,
     "metadata": {},
     "output_type": "execute_result"
    }
   ],
   "source": [
    "num_col_info_df = train_df.select_dtypes(exclude=['object', 'bool'])\n",
    "\n",
    "def missing_ratio(s):\n",
    "    return (s.isna().mean() * 100)\n",
    "\n",
    "def median(df):\n",
    "    return (df.quantile(0.5))\n",
    "\n",
    "def lower_quartile(df):\n",
    "    return (df.quantile(0.25))\n",
    "\n",
    "def upper_quartile(df):\n",
    "    return (df.quantile(0.75))\n",
    "\n",
    "num_col_info_df = num_col_info_df.agg([missing_ratio, \"min\", lower_quartile, median, upper_quartile, \"max\"])\n",
    "num_col_info_df.T"
   ]
  },
  {
   "cell_type": "markdown",
   "metadata": {},
   "source": [
    "Nhìn chung, không có điều gì bất thường đối với kiểu dữ liệu dạng số. Cột `Age` đang bị thiếu dữ liệu, do đó nhóm sẽ xử lý dữ liệu thiếu bằng cách điền median của cột và chuyển về kiểu int64 cho phù hợp."
   ]
  },
  {
   "cell_type": "code",
   "execution_count": 9,
   "metadata": {},
   "outputs": [],
   "source": [
    "train_df['Age'].fillna(train_df['Age'].median(), inplace=True)\n",
    "\n",
    "train_df['Age'] = train_df['Age'].astype(int)"
   ]
  },
  {
   "cell_type": "code",
   "execution_count": 10,
   "metadata": {},
   "outputs": [
    {
     "data": {
      "text/html": [
       "<div>\n",
       "<style scoped>\n",
       "    .dataframe tbody tr th:only-of-type {\n",
       "        vertical-align: middle;\n",
       "    }\n",
       "\n",
       "    .dataframe tbody tr th {\n",
       "        vertical-align: top;\n",
       "    }\n",
       "\n",
       "    .dataframe thead th {\n",
       "        text-align: right;\n",
       "    }\n",
       "</style>\n",
       "<table border=\"1\" class=\"dataframe\">\n",
       "  <thead>\n",
       "    <tr style=\"text-align: right;\">\n",
       "      <th></th>\n",
       "      <th>missing_ratio</th>\n",
       "      <th>min</th>\n",
       "      <th>lower_quartile</th>\n",
       "      <th>median</th>\n",
       "      <th>upper_quartile</th>\n",
       "      <th>max</th>\n",
       "    </tr>\n",
       "  </thead>\n",
       "  <tbody>\n",
       "    <tr>\n",
       "      <th>Age</th>\n",
       "      <td>0.0</td>\n",
       "      <td>0.0</td>\n",
       "      <td>22.0000</td>\n",
       "      <td>28.0000</td>\n",
       "      <td>35.0</td>\n",
       "      <td>80.0000</td>\n",
       "    </tr>\n",
       "    <tr>\n",
       "      <th>SibSp</th>\n",
       "      <td>0.0</td>\n",
       "      <td>0.0</td>\n",
       "      <td>0.0000</td>\n",
       "      <td>0.0000</td>\n",
       "      <td>1.0</td>\n",
       "      <td>8.0000</td>\n",
       "    </tr>\n",
       "    <tr>\n",
       "      <th>Parch</th>\n",
       "      <td>0.0</td>\n",
       "      <td>0.0</td>\n",
       "      <td>0.0000</td>\n",
       "      <td>0.0000</td>\n",
       "      <td>0.0</td>\n",
       "      <td>6.0000</td>\n",
       "    </tr>\n",
       "    <tr>\n",
       "      <th>Fare</th>\n",
       "      <td>0.0</td>\n",
       "      <td>0.0</td>\n",
       "      <td>7.9104</td>\n",
       "      <td>14.4542</td>\n",
       "      <td>31.0</td>\n",
       "      <td>512.3292</td>\n",
       "    </tr>\n",
       "  </tbody>\n",
       "</table>\n",
       "</div>"
      ],
      "text/plain": [
       "       missing_ratio  min  lower_quartile   median  upper_quartile       max\n",
       "Age              0.0  0.0         22.0000  28.0000            35.0   80.0000\n",
       "SibSp            0.0  0.0          0.0000   0.0000             1.0    8.0000\n",
       "Parch            0.0  0.0          0.0000   0.0000             0.0    6.0000\n",
       "Fare             0.0  0.0          7.9104  14.4542            31.0  512.3292"
      ]
     },
     "execution_count": 10,
     "metadata": {},
     "output_type": "execute_result"
    }
   ],
   "source": [
    "# TEST\n",
    "train_df.select_dtypes(exclude=['object', 'bool'])\\\n",
    "    .agg([missing_ratio, \"min\", lower_quartile, median, upper_quartile, \"max\"]).T"
   ]
  },
  {
   "cell_type": "markdown",
   "metadata": {},
   "source": [
    "#### 📌 Đối với mỗi cột có kiểu dữ liệu không phải là số, các giá trị được phân bố như thế nào?"
   ]
  },
  {
   "cell_type": "markdown",
   "metadata": {},
   "source": [
    "📚 Đối với các cột có kiểu dữ liệu không phải là số, nhóm sẽ tính toán:\n",
    "- Tỷ lệ phần trăm (từ 0 đến 100) giá trị bị thiếu\n",
    "- Số lượng giá trị khác nhau\n",
    "- Hiển thị một vài giá trị và phần trăm (từ 0 đến 100) của từng giá trị\n"
   ]
  },
  {
   "cell_type": "code",
   "execution_count": 11,
   "metadata": {},
   "outputs": [
    {
     "data": {
      "text/html": [
       "<div>\n",
       "<style scoped>\n",
       "    .dataframe tbody tr th:only-of-type {\n",
       "        vertical-align: middle;\n",
       "    }\n",
       "\n",
       "    .dataframe tbody tr th {\n",
       "        vertical-align: top;\n",
       "    }\n",
       "\n",
       "    .dataframe thead th {\n",
       "        text-align: right;\n",
       "    }\n",
       "</style>\n",
       "<table border=\"1\" class=\"dataframe\">\n",
       "  <thead>\n",
       "    <tr style=\"text-align: right;\">\n",
       "      <th></th>\n",
       "      <th>missing_ratio</th>\n",
       "      <th>num_values</th>\n",
       "      <th>value_ratios</th>\n",
       "    </tr>\n",
       "  </thead>\n",
       "  <tbody>\n",
       "    <tr>\n",
       "      <th>PassengerId</th>\n",
       "      <td>0.0</td>\n",
       "      <td>891</td>\n",
       "      <td>{891: 0.1, 1: 0.1, 2: 0.1, 3: 0.1, 4: 0.1, 5: ...</td>\n",
       "    </tr>\n",
       "    <tr>\n",
       "      <th>Survived</th>\n",
       "      <td>0.0</td>\n",
       "      <td>2</td>\n",
       "      <td>{0: 61.6, 1: 38.4}</td>\n",
       "    </tr>\n",
       "    <tr>\n",
       "      <th>Pclass</th>\n",
       "      <td>0.0</td>\n",
       "      <td>3</td>\n",
       "      <td>{3: 55.1, 1: 24.2, 2: 20.7}</td>\n",
       "    </tr>\n",
       "    <tr>\n",
       "      <th>Name</th>\n",
       "      <td>0.0</td>\n",
       "      <td>891</td>\n",
       "      <td>{'Dooley, Mr. Patrick': 0.1, 'Braund, Mr. Owen...</td>\n",
       "    </tr>\n",
       "    <tr>\n",
       "      <th>Sex</th>\n",
       "      <td>0.0</td>\n",
       "      <td>2</td>\n",
       "      <td>{'male': 64.8, 'female': 35.2}</td>\n",
       "    </tr>\n",
       "    <tr>\n",
       "      <th>Ticket</th>\n",
       "      <td>0.0</td>\n",
       "      <td>681</td>\n",
       "      <td>{'1601': 0.8, 'CA. 2343': 0.8, '347082': 0.8, ...</td>\n",
       "    </tr>\n",
       "    <tr>\n",
       "      <th>Cabin</th>\n",
       "      <td>77.104377</td>\n",
       "      <td>147</td>\n",
       "      <td>{'B96 B98': 2.0, 'G6': 2.0, 'C23 C25 C27': 2.0...</td>\n",
       "    </tr>\n",
       "    <tr>\n",
       "      <th>Embarked</th>\n",
       "      <td>0.224467</td>\n",
       "      <td>3</td>\n",
       "      <td>{'S': 72.4, 'C': 18.9, 'Q': 8.7}</td>\n",
       "    </tr>\n",
       "  </tbody>\n",
       "</table>\n",
       "</div>"
      ],
      "text/plain": [
       "            missing_ratio num_values  \\\n",
       "PassengerId           0.0        891   \n",
       "Survived              0.0          2   \n",
       "Pclass                0.0          3   \n",
       "Name                  0.0        891   \n",
       "Sex                   0.0          2   \n",
       "Ticket                0.0        681   \n",
       "Cabin           77.104377        147   \n",
       "Embarked         0.224467          3   \n",
       "\n",
       "                                                  value_ratios  \n",
       "PassengerId  {891: 0.1, 1: 0.1, 2: 0.1, 3: 0.1, 4: 0.1, 5: ...  \n",
       "Survived                                    {0: 61.6, 1: 38.4}  \n",
       "Pclass                             {3: 55.1, 1: 24.2, 2: 20.7}  \n",
       "Name         {'Dooley, Mr. Patrick': 0.1, 'Braund, Mr. Owen...  \n",
       "Sex                             {'male': 64.8, 'female': 35.2}  \n",
       "Ticket       {'1601': 0.8, 'CA. 2343': 0.8, '347082': 0.8, ...  \n",
       "Cabin        {'B96 B98': 2.0, 'G6': 2.0, 'C23 C25 C27': 2.0...  \n",
       "Embarked                      {'S': 72.4, 'C': 18.9, 'Q': 8.7}  "
      ]
     },
     "execution_count": 11,
     "metadata": {},
     "output_type": "execute_result"
    }
   ],
   "source": [
    "cat_col_info_df = train_df.select_dtypes(include=['object', 'bool'])\n",
    "\n",
    "def missing_ratio(s):\n",
    "    return (s.isna().mean() * 100)\n",
    "\n",
    "def num_values(s):\n",
    "    return len(s.value_counts())\n",
    "\n",
    "def value_ratios(s):\n",
    "    totalCount = (~s.isna()).sum()\n",
    "    return ((s.value_counts()/totalCount*100).round(1)).to_dict()\n",
    "\n",
    "cat_col_info_df = cat_col_info_df.agg([missing_ratio, num_values, value_ratios])\n",
    "cat_col_info_df.T"
   ]
  },
  {
   "cell_type": "markdown",
   "metadata": {},
   "source": [
    "Cột `Cabin` có rất nhiều dữ liệu bị thiếu (tối thiểu 77.104377%), nên nhóm tiến hành loại bỏ cột này"
   ]
  },
  {
   "cell_type": "code",
   "execution_count": 12,
   "metadata": {},
   "outputs": [],
   "source": [
    "train_df.drop([\"Cabin\"], axis=1, inplace=True)"
   ]
  },
  {
   "cell_type": "markdown",
   "metadata": {},
   "source": [
    "Cột `Embarked` có một ít dữ liệu bị thiếu, vì vậy nhóm em sẽ thay thế giá trị thiếu bằng giá trị Mode của cột đó"
   ]
  },
  {
   "cell_type": "code",
   "execution_count": 13,
   "metadata": {},
   "outputs": [],
   "source": [
    "train_df['Embarked'] = train_df['Embarked'].fillna(train_df['Embarked'].mode()[0])"
   ]
  },
  {
   "cell_type": "code",
   "execution_count": 14,
   "metadata": {},
   "outputs": [
    {
     "data": {
      "text/html": [
       "<div>\n",
       "<style scoped>\n",
       "    .dataframe tbody tr th:only-of-type {\n",
       "        vertical-align: middle;\n",
       "    }\n",
       "\n",
       "    .dataframe tbody tr th {\n",
       "        vertical-align: top;\n",
       "    }\n",
       "\n",
       "    .dataframe thead th {\n",
       "        text-align: right;\n",
       "    }\n",
       "</style>\n",
       "<table border=\"1\" class=\"dataframe\">\n",
       "  <thead>\n",
       "    <tr style=\"text-align: right;\">\n",
       "      <th></th>\n",
       "      <th>missing_ratio</th>\n",
       "      <th>num_values</th>\n",
       "      <th>value_ratios</th>\n",
       "    </tr>\n",
       "  </thead>\n",
       "  <tbody>\n",
       "    <tr>\n",
       "      <th>PassengerId</th>\n",
       "      <td>0.0</td>\n",
       "      <td>891</td>\n",
       "      <td>{891: 0.1, 1: 0.1, 2: 0.1, 3: 0.1, 4: 0.1, 5: ...</td>\n",
       "    </tr>\n",
       "    <tr>\n",
       "      <th>Survived</th>\n",
       "      <td>0.0</td>\n",
       "      <td>2</td>\n",
       "      <td>{0: 61.6, 1: 38.4}</td>\n",
       "    </tr>\n",
       "    <tr>\n",
       "      <th>Pclass</th>\n",
       "      <td>0.0</td>\n",
       "      <td>3</td>\n",
       "      <td>{3: 55.1, 1: 24.2, 2: 20.7}</td>\n",
       "    </tr>\n",
       "    <tr>\n",
       "      <th>Name</th>\n",
       "      <td>0.0</td>\n",
       "      <td>891</td>\n",
       "      <td>{'Dooley, Mr. Patrick': 0.1, 'Braund, Mr. Owen...</td>\n",
       "    </tr>\n",
       "    <tr>\n",
       "      <th>Sex</th>\n",
       "      <td>0.0</td>\n",
       "      <td>2</td>\n",
       "      <td>{'male': 64.8, 'female': 35.2}</td>\n",
       "    </tr>\n",
       "    <tr>\n",
       "      <th>Ticket</th>\n",
       "      <td>0.0</td>\n",
       "      <td>681</td>\n",
       "      <td>{'1601': 0.8, 'CA. 2343': 0.8, '347082': 0.8, ...</td>\n",
       "    </tr>\n",
       "    <tr>\n",
       "      <th>Embarked</th>\n",
       "      <td>0.0</td>\n",
       "      <td>3</td>\n",
       "      <td>{'S': 72.5, 'C': 18.9, 'Q': 8.6}</td>\n",
       "    </tr>\n",
       "  </tbody>\n",
       "</table>\n",
       "</div>"
      ],
      "text/plain": [
       "            missing_ratio num_values  \\\n",
       "PassengerId           0.0        891   \n",
       "Survived              0.0          2   \n",
       "Pclass                0.0          3   \n",
       "Name                  0.0        891   \n",
       "Sex                   0.0          2   \n",
       "Ticket                0.0        681   \n",
       "Embarked              0.0          3   \n",
       "\n",
       "                                                  value_ratios  \n",
       "PassengerId  {891: 0.1, 1: 0.1, 2: 0.1, 3: 0.1, 4: 0.1, 5: ...  \n",
       "Survived                                    {0: 61.6, 1: 38.4}  \n",
       "Pclass                             {3: 55.1, 1: 24.2, 2: 20.7}  \n",
       "Name         {'Dooley, Mr. Patrick': 0.1, 'Braund, Mr. Owen...  \n",
       "Sex                             {'male': 64.8, 'female': 35.2}  \n",
       "Ticket       {'1601': 0.8, 'CA. 2343': 0.8, '347082': 0.8, ...  \n",
       "Embarked                      {'S': 72.5, 'C': 18.9, 'Q': 8.6}  "
      ]
     },
     "execution_count": 14,
     "metadata": {},
     "output_type": "execute_result"
    }
   ],
   "source": [
    "# TEST\n",
    "train_df.select_dtypes(include=['object', 'bool'])\\\n",
    "    .agg([missing_ratio, num_values, value_ratios]).T"
   ]
  },
  {
   "cell_type": "code",
   "execution_count": 15,
   "metadata": {},
   "outputs": [
    {
     "name": "stdout",
     "output_type": "stream",
     "text": [
      "<class 'pandas.core.frame.DataFrame'>\n",
      "RangeIndex: 891 entries, 0 to 890\n",
      "Data columns (total 11 columns):\n",
      " #   Column       Non-Null Count  Dtype  \n",
      "---  ------       --------------  -----  \n",
      " 0   PassengerId  891 non-null    object \n",
      " 1   Survived     891 non-null    object \n",
      " 2   Pclass       891 non-null    object \n",
      " 3   Name         891 non-null    object \n",
      " 4   Sex          891 non-null    object \n",
      " 5   Age          891 non-null    int64  \n",
      " 6   SibSp        891 non-null    int64  \n",
      " 7   Parch        891 non-null    int64  \n",
      " 8   Ticket       891 non-null    object \n",
      " 9   Fare         891 non-null    float64\n",
      " 10  Embarked     891 non-null    object \n",
      "dtypes: float64(1), int64(3), object(7)\n",
      "memory usage: 76.7+ KB\n"
     ]
    }
   ],
   "source": [
    "train_df.info()"
   ]
  },
  {
   "cell_type": "markdown",
   "metadata": {},
   "source": [
    "Lấy 5 dữ liệu ra làm mẫu"
   ]
  },
  {
   "cell_type": "code",
   "execution_count": 16,
   "metadata": {},
   "outputs": [
    {
     "data": {
      "text/html": [
       "<div>\n",
       "<style scoped>\n",
       "    .dataframe tbody tr th:only-of-type {\n",
       "        vertical-align: middle;\n",
       "    }\n",
       "\n",
       "    .dataframe tbody tr th {\n",
       "        vertical-align: top;\n",
       "    }\n",
       "\n",
       "    .dataframe thead th {\n",
       "        text-align: right;\n",
       "    }\n",
       "</style>\n",
       "<table border=\"1\" class=\"dataframe\">\n",
       "  <thead>\n",
       "    <tr style=\"text-align: right;\">\n",
       "      <th></th>\n",
       "      <th>PassengerId</th>\n",
       "      <th>Survived</th>\n",
       "      <th>Pclass</th>\n",
       "      <th>Name</th>\n",
       "      <th>Sex</th>\n",
       "      <th>Age</th>\n",
       "      <th>SibSp</th>\n",
       "      <th>Parch</th>\n",
       "      <th>Ticket</th>\n",
       "      <th>Fare</th>\n",
       "      <th>Embarked</th>\n",
       "    </tr>\n",
       "  </thead>\n",
       "  <tbody>\n",
       "    <tr>\n",
       "      <th>417</th>\n",
       "      <td>418</td>\n",
       "      <td>1</td>\n",
       "      <td>2</td>\n",
       "      <td>Silven, Miss. Lyyli Karoliina</td>\n",
       "      <td>female</td>\n",
       "      <td>18</td>\n",
       "      <td>0</td>\n",
       "      <td>2</td>\n",
       "      <td>250652</td>\n",
       "      <td>13.0000</td>\n",
       "      <td>S</td>\n",
       "    </tr>\n",
       "    <tr>\n",
       "      <th>702</th>\n",
       "      <td>703</td>\n",
       "      <td>0</td>\n",
       "      <td>3</td>\n",
       "      <td>Barbara, Miss. Saiide</td>\n",
       "      <td>female</td>\n",
       "      <td>18</td>\n",
       "      <td>0</td>\n",
       "      <td>1</td>\n",
       "      <td>2691</td>\n",
       "      <td>14.4542</td>\n",
       "      <td>C</td>\n",
       "    </tr>\n",
       "    <tr>\n",
       "      <th>323</th>\n",
       "      <td>324</td>\n",
       "      <td>1</td>\n",
       "      <td>2</td>\n",
       "      <td>Caldwell, Mrs. Albert Francis (Sylvia Mae Harb...</td>\n",
       "      <td>female</td>\n",
       "      <td>22</td>\n",
       "      <td>1</td>\n",
       "      <td>1</td>\n",
       "      <td>248738</td>\n",
       "      <td>29.0000</td>\n",
       "      <td>S</td>\n",
       "    </tr>\n",
       "    <tr>\n",
       "      <th>850</th>\n",
       "      <td>851</td>\n",
       "      <td>0</td>\n",
       "      <td>3</td>\n",
       "      <td>Andersson, Master. Sigvard Harald Elias</td>\n",
       "      <td>male</td>\n",
       "      <td>4</td>\n",
       "      <td>4</td>\n",
       "      <td>2</td>\n",
       "      <td>347082</td>\n",
       "      <td>31.2750</td>\n",
       "      <td>S</td>\n",
       "    </tr>\n",
       "    <tr>\n",
       "      <th>499</th>\n",
       "      <td>500</td>\n",
       "      <td>0</td>\n",
       "      <td>3</td>\n",
       "      <td>Svensson, Mr. Olof</td>\n",
       "      <td>male</td>\n",
       "      <td>24</td>\n",
       "      <td>0</td>\n",
       "      <td>0</td>\n",
       "      <td>350035</td>\n",
       "      <td>7.7958</td>\n",
       "      <td>S</td>\n",
       "    </tr>\n",
       "  </tbody>\n",
       "</table>\n",
       "</div>"
      ],
      "text/plain": [
       "    PassengerId Survived Pclass  \\\n",
       "417         418        1      2   \n",
       "702         703        0      3   \n",
       "323         324        1      2   \n",
       "850         851        0      3   \n",
       "499         500        0      3   \n",
       "\n",
       "                                                  Name     Sex  Age  SibSp  \\\n",
       "417                      Silven, Miss. Lyyli Karoliina  female   18      0   \n",
       "702                              Barbara, Miss. Saiide  female   18      0   \n",
       "323  Caldwell, Mrs. Albert Francis (Sylvia Mae Harb...  female   22      1   \n",
       "850            Andersson, Master. Sigvard Harald Elias    male    4      4   \n",
       "499                                 Svensson, Mr. Olof    male   24      0   \n",
       "\n",
       "     Parch  Ticket     Fare Embarked  \n",
       "417      2  250652  13.0000        S  \n",
       "702      1    2691  14.4542        C  \n",
       "323      1  248738  29.0000        S  \n",
       "850      2  347082  31.2750        S  \n",
       "499      0  350035   7.7958        S  "
      ]
     },
     "execution_count": 16,
     "metadata": {},
     "output_type": "execute_result"
    }
   ],
   "source": [
    "train_df.sample(5)"
   ]
  },
  {
   "cell_type": "markdown",
   "metadata": {},
   "source": [
    "### **2. Đặt câu hỏi**"
   ]
  },
  {
   "cell_type": "markdown",
   "metadata": {},
   "source": [
    "#### 📚 **Câu 1: Loại hạng vé của lớp hành khách nào có tỉ lệ sống sót cao nhất?**"
   ]
  },
  {
   "cell_type": "markdown",
   "metadata": {},
   "source": [
    "##### - Giúp chúng ta nhận biết mức độ ảnh hưởng của loại hạng vé đối với khả năng sống sót trên tàu Titanic. Liệu có sự ưu tiên trong việc cứu hộ dựa trên tầng lớp xã hội hay không?\n",
    "##### - Giúp nhận biết mức độ ảnh hưởng của yếu tố xã hội và kinh tế đối với khả năng sống sót trong tình huống khẩn cấp."
   ]
  },
  {
   "cell_type": "markdown",
   "metadata": {},
   "source": [
    "#### 📚 **Câu 2: Có sự khác biệt về tỉ lệ sống sót giữa nam và nữ không?**"
   ]
  },
  {
   "cell_type": "markdown",
   "metadata": {},
   "source": [
    "#####  - Giúp chúng ta nhận biết mức độ ảnh hưởng của giới tính đối với khả năng sống sót trên tàu Titanic. Liệu giới tính có phản ánh yếu tố quyết định trong việc sống sót hay không?\n",
    "##### - Giúp phát hiện ra liệu có sự ưu tiên giữa nam và nữ trong tình huống khẩn cấp hay không?\n",
    "##### - Có thể giúp đánh giá khả năng sẵn sàng và phản ứng của hành khách theo giới tính khi đối mặt với tình huống khẩn cấp."
   ]
  },
  {
   "cell_type": "markdown",
   "metadata": {},
   "source": [
    "#### 📚 **Câu 3: Tỷ lệ sống sót ở nhóm tuổi nào là cao nhất?**"
   ]
  },
  {
   "cell_type": "markdown",
   "metadata": {},
   "source": [
    "##### - Giúp chúng ta hiểu rõ hơn về mức độ ảnh hưởng của độ tuổi đối với khả năng sống sót trong tình huống khẩn cấp như trên tàu Titanic. \n",
    "##### - Giúp phát hiện ra liệu có sự ưu tiên nào ở các độ tuổi trong việc cứu hộ không?\n",
    "##### - Có thể giúp đánh giá khả năng sẵn sàng và phản ứng của hành khách khi đối mặt với tình huống khẩn cấp."
   ]
  },
  {
   "cell_type": "markdown",
   "metadata": {},
   "source": [
    "#### 📚 **Câu 4: Liệu rằng những người đi cùng gia đình có tỷ lệ sống sót cao hơn những người đi 1 mình?**"
   ]
  },
  {
   "cell_type": "markdown",
   "metadata": {},
   "source": [
    "##### - Giúp chúng ta hiểu rõ hơn về mức độ ảnh hưởng của việc đi cùng gia đình đối với khả năng sống sót trong tình huống khẩn cấp như trên tàu Titanic. Điều này cung cấp thông tin quan trọng để đánh giá yếu tố hỗ trợ trong quá trình cứu hộ và phản ứng trong các tình huống khẩn cấp.\n",
    "#### -  Giúp đánh giá tác động của yếu tố gia đình đối với khả năng sống sót. Những người đi cùng gia đình có tỷ lệ sống sót cao hơn, liệu có sự hỗ trợ và quan tâm lẫn nhau trong quá trình cứu hộ hay không?"
   ]
  },
  {
   "cell_type": "markdown",
   "metadata": {},
   "source": [
    "### **3. Phân tích dữ liệu để trả lời từng câu hỏi**"
   ]
  },
  {
   "cell_type": "markdown",
   "metadata": {},
   "source": [
    "DataFrame `train_df` sau khi đã thực hiện công việc khám phá, tiền xử lý"
   ]
  },
  {
   "cell_type": "code",
   "execution_count": 17,
   "metadata": {},
   "outputs": [
    {
     "data": {
      "text/html": [
       "<div>\n",
       "<style scoped>\n",
       "    .dataframe tbody tr th:only-of-type {\n",
       "        vertical-align: middle;\n",
       "    }\n",
       "\n",
       "    .dataframe tbody tr th {\n",
       "        vertical-align: top;\n",
       "    }\n",
       "\n",
       "    .dataframe thead th {\n",
       "        text-align: right;\n",
       "    }\n",
       "</style>\n",
       "<table border=\"1\" class=\"dataframe\">\n",
       "  <thead>\n",
       "    <tr style=\"text-align: right;\">\n",
       "      <th></th>\n",
       "      <th>PassengerId</th>\n",
       "      <th>Survived</th>\n",
       "      <th>Pclass</th>\n",
       "      <th>Name</th>\n",
       "      <th>Sex</th>\n",
       "      <th>Age</th>\n",
       "      <th>SibSp</th>\n",
       "      <th>Parch</th>\n",
       "      <th>Ticket</th>\n",
       "      <th>Fare</th>\n",
       "      <th>Embarked</th>\n",
       "    </tr>\n",
       "  </thead>\n",
       "  <tbody>\n",
       "    <tr>\n",
       "      <th>0</th>\n",
       "      <td>1</td>\n",
       "      <td>0</td>\n",
       "      <td>3</td>\n",
       "      <td>Braund, Mr. Owen Harris</td>\n",
       "      <td>male</td>\n",
       "      <td>22</td>\n",
       "      <td>1</td>\n",
       "      <td>0</td>\n",
       "      <td>A/5 21171</td>\n",
       "      <td>7.2500</td>\n",
       "      <td>S</td>\n",
       "    </tr>\n",
       "    <tr>\n",
       "      <th>1</th>\n",
       "      <td>2</td>\n",
       "      <td>1</td>\n",
       "      <td>1</td>\n",
       "      <td>Cumings, Mrs. John Bradley (Florence Briggs Th...</td>\n",
       "      <td>female</td>\n",
       "      <td>38</td>\n",
       "      <td>1</td>\n",
       "      <td>0</td>\n",
       "      <td>PC 17599</td>\n",
       "      <td>71.2833</td>\n",
       "      <td>C</td>\n",
       "    </tr>\n",
       "    <tr>\n",
       "      <th>2</th>\n",
       "      <td>3</td>\n",
       "      <td>1</td>\n",
       "      <td>3</td>\n",
       "      <td>Heikkinen, Miss. Laina</td>\n",
       "      <td>female</td>\n",
       "      <td>26</td>\n",
       "      <td>0</td>\n",
       "      <td>0</td>\n",
       "      <td>STON/O2. 3101282</td>\n",
       "      <td>7.9250</td>\n",
       "      <td>S</td>\n",
       "    </tr>\n",
       "    <tr>\n",
       "      <th>3</th>\n",
       "      <td>4</td>\n",
       "      <td>1</td>\n",
       "      <td>1</td>\n",
       "      <td>Futrelle, Mrs. Jacques Heath (Lily May Peel)</td>\n",
       "      <td>female</td>\n",
       "      <td>35</td>\n",
       "      <td>1</td>\n",
       "      <td>0</td>\n",
       "      <td>113803</td>\n",
       "      <td>53.1000</td>\n",
       "      <td>S</td>\n",
       "    </tr>\n",
       "    <tr>\n",
       "      <th>4</th>\n",
       "      <td>5</td>\n",
       "      <td>0</td>\n",
       "      <td>3</td>\n",
       "      <td>Allen, Mr. William Henry</td>\n",
       "      <td>male</td>\n",
       "      <td>35</td>\n",
       "      <td>0</td>\n",
       "      <td>0</td>\n",
       "      <td>373450</td>\n",
       "      <td>8.0500</td>\n",
       "      <td>S</td>\n",
       "    </tr>\n",
       "    <tr>\n",
       "      <th>...</th>\n",
       "      <td>...</td>\n",
       "      <td>...</td>\n",
       "      <td>...</td>\n",
       "      <td>...</td>\n",
       "      <td>...</td>\n",
       "      <td>...</td>\n",
       "      <td>...</td>\n",
       "      <td>...</td>\n",
       "      <td>...</td>\n",
       "      <td>...</td>\n",
       "      <td>...</td>\n",
       "    </tr>\n",
       "    <tr>\n",
       "      <th>886</th>\n",
       "      <td>887</td>\n",
       "      <td>0</td>\n",
       "      <td>2</td>\n",
       "      <td>Montvila, Rev. Juozas</td>\n",
       "      <td>male</td>\n",
       "      <td>27</td>\n",
       "      <td>0</td>\n",
       "      <td>0</td>\n",
       "      <td>211536</td>\n",
       "      <td>13.0000</td>\n",
       "      <td>S</td>\n",
       "    </tr>\n",
       "    <tr>\n",
       "      <th>887</th>\n",
       "      <td>888</td>\n",
       "      <td>1</td>\n",
       "      <td>1</td>\n",
       "      <td>Graham, Miss. Margaret Edith</td>\n",
       "      <td>female</td>\n",
       "      <td>19</td>\n",
       "      <td>0</td>\n",
       "      <td>0</td>\n",
       "      <td>112053</td>\n",
       "      <td>30.0000</td>\n",
       "      <td>S</td>\n",
       "    </tr>\n",
       "    <tr>\n",
       "      <th>888</th>\n",
       "      <td>889</td>\n",
       "      <td>0</td>\n",
       "      <td>3</td>\n",
       "      <td>Johnston, Miss. Catherine Helen \"Carrie\"</td>\n",
       "      <td>female</td>\n",
       "      <td>28</td>\n",
       "      <td>1</td>\n",
       "      <td>2</td>\n",
       "      <td>W./C. 6607</td>\n",
       "      <td>23.4500</td>\n",
       "      <td>S</td>\n",
       "    </tr>\n",
       "    <tr>\n",
       "      <th>889</th>\n",
       "      <td>890</td>\n",
       "      <td>1</td>\n",
       "      <td>1</td>\n",
       "      <td>Behr, Mr. Karl Howell</td>\n",
       "      <td>male</td>\n",
       "      <td>26</td>\n",
       "      <td>0</td>\n",
       "      <td>0</td>\n",
       "      <td>111369</td>\n",
       "      <td>30.0000</td>\n",
       "      <td>C</td>\n",
       "    </tr>\n",
       "    <tr>\n",
       "      <th>890</th>\n",
       "      <td>891</td>\n",
       "      <td>0</td>\n",
       "      <td>3</td>\n",
       "      <td>Dooley, Mr. Patrick</td>\n",
       "      <td>male</td>\n",
       "      <td>32</td>\n",
       "      <td>0</td>\n",
       "      <td>0</td>\n",
       "      <td>370376</td>\n",
       "      <td>7.7500</td>\n",
       "      <td>Q</td>\n",
       "    </tr>\n",
       "  </tbody>\n",
       "</table>\n",
       "<p>891 rows × 11 columns</p>\n",
       "</div>"
      ],
      "text/plain": [
       "    PassengerId Survived Pclass  \\\n",
       "0             1        0      3   \n",
       "1             2        1      1   \n",
       "2             3        1      3   \n",
       "3             4        1      1   \n",
       "4             5        0      3   \n",
       "..          ...      ...    ...   \n",
       "886         887        0      2   \n",
       "887         888        1      1   \n",
       "888         889        0      3   \n",
       "889         890        1      1   \n",
       "890         891        0      3   \n",
       "\n",
       "                                                  Name     Sex  Age  SibSp  \\\n",
       "0                              Braund, Mr. Owen Harris    male   22      1   \n",
       "1    Cumings, Mrs. John Bradley (Florence Briggs Th...  female   38      1   \n",
       "2                               Heikkinen, Miss. Laina  female   26      0   \n",
       "3         Futrelle, Mrs. Jacques Heath (Lily May Peel)  female   35      1   \n",
       "4                             Allen, Mr. William Henry    male   35      0   \n",
       "..                                                 ...     ...  ...    ...   \n",
       "886                              Montvila, Rev. Juozas    male   27      0   \n",
       "887                       Graham, Miss. Margaret Edith  female   19      0   \n",
       "888           Johnston, Miss. Catherine Helen \"Carrie\"  female   28      1   \n",
       "889                              Behr, Mr. Karl Howell    male   26      0   \n",
       "890                                Dooley, Mr. Patrick    male   32      0   \n",
       "\n",
       "     Parch            Ticket     Fare Embarked  \n",
       "0        0         A/5 21171   7.2500        S  \n",
       "1        0          PC 17599  71.2833        C  \n",
       "2        0  STON/O2. 3101282   7.9250        S  \n",
       "3        0            113803  53.1000        S  \n",
       "4        0            373450   8.0500        S  \n",
       "..     ...               ...      ...      ...  \n",
       "886      0            211536  13.0000        S  \n",
       "887      0            112053  30.0000        S  \n",
       "888      2        W./C. 6607  23.4500        S  \n",
       "889      0            111369  30.0000        C  \n",
       "890      0            370376   7.7500        Q  \n",
       "\n",
       "[891 rows x 11 columns]"
      ]
     },
     "execution_count": 17,
     "metadata": {},
     "output_type": "execute_result"
    }
   ],
   "source": [
    "train_df"
   ]
  },
  {
   "cell_type": "markdown",
   "metadata": {},
   "source": [
    "#### 📚 **Câu 1: Loại hạng vé của lớp hành khách nào có tỉ lệ sống sót cao nhất?**"
   ]
  },
  {
   "cell_type": "markdown",
   "metadata": {},
   "source": [
    "##### **Bước 1:** Tính tỷ lệ sống sót trung bình của hành khách theo từng loại hạng vé của hành khách trong tập dữ liệu"
   ]
  },
  {
   "cell_type": "markdown",
   "metadata": {},
   "source": [
    "Sử dụng groupby để nhóm dữ liệu theo giá trị trong cột `Pclass`, chọn cột `Survived` và tính trung bình. Giá trị trả về là tỷ lệ sống sót trung bình của mỗi nhóm lớp hành khách."
   ]
  },
  {
   "cell_type": "code",
   "execution_count": 18,
   "metadata": {},
   "outputs": [],
   "source": [
    "survival_rate_by_class = train_df.groupby('Pclass')['Survived'].mean().reset_index()\n",
    "survival_rate_by_class['Survived'] *= 100 "
   ]
  },
  {
   "cell_type": "markdown",
   "metadata": {},
   "source": [
    "`survival_rate_by_class` là một DataFrame chứa thông tin về tỉ lệ sống sót của từng loại hạng vé, với cột `Pclass` chứa thông tin về loại hạng vé của hành khách và cột `Survived` chứa tỷ lệ sống sót của mỗi hạng vé."
   ]
  },
  {
   "cell_type": "code",
   "execution_count": 19,
   "metadata": {},
   "outputs": [
    {
     "data": {
      "text/html": [
       "<div>\n",
       "<style scoped>\n",
       "    .dataframe tbody tr th:only-of-type {\n",
       "        vertical-align: middle;\n",
       "    }\n",
       "\n",
       "    .dataframe tbody tr th {\n",
       "        vertical-align: top;\n",
       "    }\n",
       "\n",
       "    .dataframe thead th {\n",
       "        text-align: right;\n",
       "    }\n",
       "</style>\n",
       "<table border=\"1\" class=\"dataframe\">\n",
       "  <thead>\n",
       "    <tr style=\"text-align: right;\">\n",
       "      <th></th>\n",
       "      <th>Pclass</th>\n",
       "      <th>Survived</th>\n",
       "    </tr>\n",
       "  </thead>\n",
       "  <tbody>\n",
       "    <tr>\n",
       "      <th>0</th>\n",
       "      <td>1</td>\n",
       "      <td>62.962963</td>\n",
       "    </tr>\n",
       "    <tr>\n",
       "      <th>1</th>\n",
       "      <td>2</td>\n",
       "      <td>47.282609</td>\n",
       "    </tr>\n",
       "    <tr>\n",
       "      <th>2</th>\n",
       "      <td>3</td>\n",
       "      <td>24.236253</td>\n",
       "    </tr>\n",
       "  </tbody>\n",
       "</table>\n",
       "</div>"
      ],
      "text/plain": [
       "   Pclass   Survived\n",
       "0       1  62.962963\n",
       "1       2  47.282609\n",
       "2       3  24.236253"
      ]
     },
     "execution_count": 19,
     "metadata": {},
     "output_type": "execute_result"
    }
   ],
   "source": [
    "survival_rate_by_class"
   ]
  },
  {
   "cell_type": "markdown",
   "metadata": {},
   "source": [
    "##### **Bước 2:** Vẽ biểu đồ cột để có cái nhìn trực quan"
   ]
  },
  {
   "cell_type": "code",
   "execution_count": 20,
   "metadata": {},
   "outputs": [
    {
     "data": {
      "image/png": "[encoded data removed]",
      "text/plain": [
       "<Figure size 1000x800 with 1 Axes>"
      ]
     },
     "metadata": {},
     "output_type": "display_data"
    }
   ],
   "source": [
    "plt.figure(figsize=(10, 8))\n",
    "plt.bar(survival_rate_by_class['Pclass'], survival_rate_by_class['Survived'])\n",
    "plt.xlabel('PClass') \n",
    "plt.ylabel('Survival Rate (%)')  \n",
    "plt.title('Survival Rate by Passenger Class')  \n",
    "plt.xticks(survival_rate_by_class['Pclass'])\n",
    "\n",
    "# # Save image as svg file to use in report\n",
    "# plt.tight_layout()\n",
    "# plt.savefig(\"./images/survival_rate_by_class.svg\", format=\"svg\")\n",
    "\n",
    "plt.show()"
   ]
  },
  {
   "cell_type": "markdown",
   "metadata": {},
   "source": [
    "**Nhận xét:**\n",
    "- Tỷ lệ sống sót giảm dần theo lớp hành khách, với tỷ lệ sống sót trung bình của hành khách ở lớp hạng nhất (Pclass = 1) là cao nhất, với gần khoảng 63%. Điều này cho thấy rằng hành khách ở lớp hạng cao có khả năng sống sót cao hơn so với các lớp hạng thấp hơn. Lớp hạng thấp nhất (Pclass = 3) có tỷ lệ sống sót thấp nhất, chỉ khoảng gần 25%.\n",
    "- Sự chênh lệch giữa tỷ lệ sống sót của các lớp hành khách là đáng kể. Lớp hành khách ở hạng nhất có tỷ lệ sống sót gấp đôi so với lớp hạng ba. Điều này có thể phản ánh chính sách ưu tiên trong việc cứu hộ, nơi mà hành khách ở lớp cao hơn thường được ưu tiên.\n",
    "- Lớp hành khách là một yếu tố quan trọng ảnh hưởng đến khả năng sống sót, có thể giải thích điều này bằng việc các hành khách ở lớp cao hơn thường có điều kiện sống sót cao hơn, có khả năng ưu tiên hơn trong việc cứu hộ."
   ]
  },
  {
   "cell_type": "markdown",
   "metadata": {},
   "source": [
    "#### 📚 **Câu 2: Có sự khác biệt về tỉ lệ sống sót giữa nam và nữ không?**"
   ]
  },
  {
   "cell_type": "markdown",
   "metadata": {},
   "source": [
    "##### **Bước 1:** Tính tỷ lệ sống sót trung bình của hành khách theo giới tính của hành khách"
   ]
  },
  {
   "cell_type": "markdown",
   "metadata": {},
   "source": [
    "Sử dụng groupby để nhóm dữ liệu theo giá trị trong cột `Sex`, chọn cột `Survived` và tính trung bình. Giá trị trả về là tỷ lệ sống sót trung bình theo giới tính của hành khách."
   ]
  },
  {
   "cell_type": "code",
   "execution_count": 21,
   "metadata": {},
   "outputs": [],
   "source": [
    "survival_rate_by_sex = train_df.groupby('Sex')['Survived'].mean()"
   ]
  },
  {
   "cell_type": "markdown",
   "metadata": {},
   "source": [
    "##### **Bước 2:** Vẽ biểu đồ tròn để có cái nhìn trực quan"
   ]
  },
  {
   "cell_type": "code",
   "execution_count": 42,
   "metadata": {},
   "outputs": [
    {
     "data": {
      "image/png": "[encoded data removed]",
      "text/plain": [
       "<Figure size 1000x800 with 1 Axes>"
      ]
     },
     "metadata": {},
     "output_type": "display_data"
    }
   ],
   "source": [
    "plt.figure(figsize=(10, 8))  \n",
    "plt.pie(survival_rate_by_sex, labels=survival_rate_by_sex.index, autopct='%1.1f%%', startangle=90)\n",
    "plt.title('Survival Rate by Sex')\n",
    "\n",
    "# Save image as svg file to use in report\n",
    "# plt.tight_layout()\n",
    "# plt.savefig(\"./images/survival_rate_by_sex.svg\", format=\"svg\")\n",
    "\n",
    "plt.show()"
   ]
  },
  {
   "cell_type": "markdown",
   "metadata": {},
   "source": [
    "**Nhận xét:**\n",
    "- Có sự chênh lệch rõ rệt về tỷ lệ sống sót giữa nam và nữ. Tỷ lệ sống sót trung bình của nữ giới (female) là khoảng 79.7%, trong khi đó tỷ lệ sống sót trung bình của nam giới (male) chỉ là khoảng 20.3%. Sự chênh lệch lớn này phản ánh chính sách ưu tiên cứu hộ của tàu Titanic, trong đó phụ nữ được ưu tiên cứu hộ hơn so với nam giới.\n",
    "- Giới tính là một yếu tố quan trọng ảnh hưởng đến khả năng sống sót. Kết quả trên đã làm nổi bật vai trò quan trọng của giới tính trong việc ảnh hưởng đến khả năng sống sót trên tàu Titanic. Tỷ lệ sống sót của nữ giới cao hơn đáng kể so với nam giới, có thể do chính sách ưu tiên cứu hộ cho phụ nữ và trẻ em."
   ]
  },
  {
   "cell_type": "markdown",
   "metadata": {},
   "source": [
    "#### 📚 **Câu 3: Tỷ lệ sống sót ở nhóm tuổi nào là cao nhất?**"
   ]
  },
  {
   "cell_type": "markdown",
   "metadata": {},
   "source": [
    "##### **Bước 1:** Phân loại tuổi thành các nhóm: Trẻ em, Người trưởng thành và Cao tuổi"
   ]
  },
  {
   "cell_type": "markdown",
   "metadata": {},
   "source": [
    "Sử dụng `pd.cut` để chia các giá trị trong cột \"Age\" thành các khoảng theo độ tuổi trẻ em, người trưởng thành và người cao tuổi. Sau đó tạo cột mới `Age Group` trong dataframe `train_df` để chứa nhóm tuổi tương ứng với mỗi hành khách, dựa trên độ tuổi của họ."
   ]
  },
  {
   "cell_type": "code",
   "execution_count": 43,
   "metadata": {},
   "outputs": [],
   "source": [
    "train_df['Age Group'] = pd.cut(train_df['Age'], bins=[0, 18, 60, np.inf], labels=['Trẻ em', 'Người trưởng thành', 'Người cao tuổi'])"
   ]
  },
  {
   "cell_type": "markdown",
   "metadata": {},
   "source": [
    "##### **Bước 2:** Tính tỷ lệ sống sót trung bình cho mỗi nhóm tuổi"
   ]
  },
  {
   "cell_type": "markdown",
   "metadata": {},
   "source": [
    "Sử dụng groupby để nhóm dữ liệu theo giá trị trong cột `Age Group`, chọn cột `Survived` và tính trung bình. Giá trị trả về là tỉ lệ sống sót trung bình cho mỗi nhóm tuổi. "
   ]
  },
  {
   "cell_type": "code",
   "execution_count": 44,
   "metadata": {},
   "outputs": [],
   "source": [
    "survival_rate_by_age_group = train_df.groupby('Age Group')['Survived'].mean().reset_index()\n",
    "survival_rate_by_age_group['Survived'] *= 100 "
   ]
  },
  {
   "cell_type": "markdown",
   "metadata": {},
   "source": [
    "DataFrame `survival_rate_by_age_group` chứa thông tin về tỉ lệ sống sót trung bình của các nhóm tuổi khác nhau. Với cột `Age Group` chứa các nhóm tuổi được phân loại và cột `Survived` chứa tỷ lệ sống sót của mỗi nhóm tuổi."
   ]
  },
  {
   "cell_type": "code",
   "execution_count": 45,
   "metadata": {},
   "outputs": [
    {
     "data": {
      "text/html": [
       "<div>\n",
       "<style scoped>\n",
       "    .dataframe tbody tr th:only-of-type {\n",
       "        vertical-align: middle;\n",
       "    }\n",
       "\n",
       "    .dataframe tbody tr th {\n",
       "        vertical-align: top;\n",
       "    }\n",
       "\n",
       "    .dataframe thead th {\n",
       "        text-align: right;\n",
       "    }\n",
       "</style>\n",
       "<table border=\"1\" class=\"dataframe\">\n",
       "  <thead>\n",
       "    <tr style=\"text-align: right;\">\n",
       "      <th></th>\n",
       "      <th>Age Group</th>\n",
       "      <th>Survived</th>\n",
       "    </tr>\n",
       "  </thead>\n",
       "  <tbody>\n",
       "    <tr>\n",
       "      <th>0</th>\n",
       "      <td>Trẻ em</td>\n",
       "      <td>47.727273</td>\n",
       "    </tr>\n",
       "    <tr>\n",
       "      <th>1</th>\n",
       "      <td>Người trưởng thành</td>\n",
       "      <td>36.575342</td>\n",
       "    </tr>\n",
       "    <tr>\n",
       "      <th>2</th>\n",
       "      <td>Người cao tuổi</td>\n",
       "      <td>22.727273</td>\n",
       "    </tr>\n",
       "  </tbody>\n",
       "</table>\n",
       "</div>"
      ],
      "text/plain": [
       "            Age Group   Survived\n",
       "0              Trẻ em  47.727273\n",
       "1  Người trưởng thành  36.575342\n",
       "2      Người cao tuổi  22.727273"
      ]
     },
     "execution_count": 45,
     "metadata": {},
     "output_type": "execute_result"
    }
   ],
   "source": [
    "survival_rate_by_age_group"
   ]
  },
  {
   "cell_type": "markdown",
   "metadata": {},
   "source": [
    "##### **Bước 3:** Trực quan hóa kết quả bằng biểu đồ cột"
   ]
  },
  {
   "cell_type": "code",
   "execution_count": 46,
   "metadata": {},
   "outputs": [
    {
     "data": {
      "image/png": "[encoded data removed]",
      "text/plain": [
       "<Figure size 1000x800 with 1 Axes>"
      ]
     },
     "metadata": {},
     "output_type": "display_data"
    }
   ],
   "source": [
    "plt.figure(figsize=(10, 8))\n",
    "plt.bar(survival_rate_by_age_group['Age Group'], survival_rate_by_age_group['Survived'])\n",
    "plt.xlabel('Age Group')\n",
    "plt.ylabel('Survival Rate(%)')\n",
    "plt.title('Survival Rate by Age Group')\n",
    "\n",
    "# Save image as svg file to use in report\n",
    "plt.tight_layout()\n",
    "plt.savefig(\"./images/survival_rate_by_age_group.svg\", format=\"svg\")\n",
    "\n",
    "plt.show()"
   ]
  },
  {
   "cell_type": "markdown",
   "metadata": {},
   "source": [
    "**Nhận xét:**\n",
    "- Tỷ lệ sống sót trung bình của trẻ em (tuổi dưới 18) là khoảng 47.7%, cao hơn đáng kể so với tỷ lệ sống sót của nhóm người trưởng thành và cao tuổi. Điều này có thể được giải thích bằng việc trẻ em thường được ưu tiên cứu hộ và có khả năng di chuyển đến các khu vực an toàn nhanh chóng hơn trong tình huống khẩn cấp.\n",
    "- Tỷ lệ sống sót trung bình của người trưởng thành (từ 18 đến 60 tuổi) là khoảng 36.6%. Mặc dù tỷ lệ này cao hơn so với nhóm cao tuổi, nhưng vẫn thấp hơn so với nhóm trẻ em. \n",
    "- Tỷ lệ sống sót trung bình của nhóm cao tuổi (trên 60 tuổi) chỉ là khoảng 22.7%, thấp nhất trong ba nhóm tuổi. Điều này có thể do họ gặp khó khăn trong việc di chuyển và được cứu hộ trong tình huống khẩn cấp, cũng như có thể có các vấn đề về sức khỏe mà làm giảm khả năng sống sót.\n",
    "- Dữ liệu này cho thấy  yếu tố tuổi tác cũng ảnh hưởng đến khả năng sống sót trên tàu Titanic. Trẻ em được ưu tiên cứu hộ hơn và có tỷ lệ sống sót cao nhất, trong khi người cao tuổi có tỷ lệ sống sót thấp nhất, với người trưởng thành nằm ở mức trung bình. Điều này phản ánh chính sách ưu tiên cứu hộ và khả năng chịu đựng khác nhau giữa các nhóm tuổi."
   ]
  },
  {
   "cell_type": "markdown",
   "metadata": {},
   "source": [
    "#### 📚 **Câu 4: Liệu rằng những người đi cùng gia đình có tỷ lệ sống sót cao hơn những người đi 1 mình?**"
   ]
  },
  {
   "cell_type": "markdown",
   "metadata": {},
   "source": [
    "##### **Bước 1:** Tính tỷ lệ sống sót trung bình cho từng nhóm SibSp và Parch"
   ]
  },
  {
   "cell_type": "markdown",
   "metadata": {},
   "source": [
    "Sử dụng groupby để nhóm dữ liệu theo giá trị trong cột `SibSp`, chọn cột `Survived` và tính trung bình. Sử dụng `reset_index` để đổi chỉ số của kết quả trả về để tạo thành DataFrame mới. "
   ]
  },
  {
   "cell_type": "code",
   "execution_count": 47,
   "metadata": {},
   "outputs": [],
   "source": [
    "survival_rate_by_SibSp = train_df.groupby('SibSp')['Survived'].mean().reset_index()\n",
    "survival_rate_by_SibSp['Survived'] *= 100 "
   ]
  },
  {
   "cell_type": "markdown",
   "metadata": {},
   "source": [
    "`survival_rate_by_SibSp` là một DataFrame chứa thông tin về tỷ lệ sống sót trung bình cho mỗi giá trị của cột `SibSp`."
   ]
  },
  {
   "cell_type": "code",
   "execution_count": 48,
   "metadata": {},
   "outputs": [
    {
     "data": {
      "text/html": [
       "<div>\n",
       "<style scoped>\n",
       "    .dataframe tbody tr th:only-of-type {\n",
       "        vertical-align: middle;\n",
       "    }\n",
       "\n",
       "    .dataframe tbody tr th {\n",
       "        vertical-align: top;\n",
       "    }\n",
       "\n",
       "    .dataframe thead th {\n",
       "        text-align: right;\n",
       "    }\n",
       "</style>\n",
       "<table border=\"1\" class=\"dataframe\">\n",
       "  <thead>\n",
       "    <tr style=\"text-align: right;\">\n",
       "      <th></th>\n",
       "      <th>SibSp</th>\n",
       "      <th>Survived</th>\n",
       "    </tr>\n",
       "  </thead>\n",
       "  <tbody>\n",
       "    <tr>\n",
       "      <th>0</th>\n",
       "      <td>0</td>\n",
       "      <td>34.539474</td>\n",
       "    </tr>\n",
       "    <tr>\n",
       "      <th>1</th>\n",
       "      <td>1</td>\n",
       "      <td>53.588517</td>\n",
       "    </tr>\n",
       "    <tr>\n",
       "      <th>2</th>\n",
       "      <td>2</td>\n",
       "      <td>46.428571</td>\n",
       "    </tr>\n",
       "    <tr>\n",
       "      <th>3</th>\n",
       "      <td>3</td>\n",
       "      <td>25.0</td>\n",
       "    </tr>\n",
       "    <tr>\n",
       "      <th>4</th>\n",
       "      <td>4</td>\n",
       "      <td>16.666667</td>\n",
       "    </tr>\n",
       "    <tr>\n",
       "      <th>5</th>\n",
       "      <td>5</td>\n",
       "      <td>0.0</td>\n",
       "    </tr>\n",
       "    <tr>\n",
       "      <th>6</th>\n",
       "      <td>8</td>\n",
       "      <td>0.0</td>\n",
       "    </tr>\n",
       "  </tbody>\n",
       "</table>\n",
       "</div>"
      ],
      "text/plain": [
       "   SibSp   Survived\n",
       "0      0  34.539474\n",
       "1      1  53.588517\n",
       "2      2  46.428571\n",
       "3      3       25.0\n",
       "4      4  16.666667\n",
       "5      5        0.0\n",
       "6      8        0.0"
      ]
     },
     "execution_count": 48,
     "metadata": {},
     "output_type": "execute_result"
    }
   ],
   "source": [
    "survival_rate_by_SibSp"
   ]
  },
  {
   "cell_type": "markdown",
   "metadata": {},
   "source": [
    "Tương tự cũng sử dụng groupby để nhóm dữ liệu theo giá trị trong cột `Parch`, chọn cột `Survived` và tính trung bình. Sử dụng `reset_index` để đổi chỉ số của kết quả trả về để tạo thành DataFrame mới. "
   ]
  },
  {
   "cell_type": "code",
   "execution_count": 49,
   "metadata": {},
   "outputs": [],
   "source": [
    "survival_rate_by_Parch = train_df.groupby('Parch')['Survived'].mean().reset_index()\n",
    "survival_rate_by_Parch['Survived'] *= 100 "
   ]
  },
  {
   "cell_type": "markdown",
   "metadata": {},
   "source": [
    "`survival_rate_by_Parch` là một DataFrame chứa thông tin về tỷ lệ sống sót trung bình cho mỗi giá trị của cột `Parch`."
   ]
  },
  {
   "cell_type": "code",
   "execution_count": 50,
   "metadata": {},
   "outputs": [
    {
     "data": {
      "text/html": [
       "<div>\n",
       "<style scoped>\n",
       "    .dataframe tbody tr th:only-of-type {\n",
       "        vertical-align: middle;\n",
       "    }\n",
       "\n",
       "    .dataframe tbody tr th {\n",
       "        vertical-align: top;\n",
       "    }\n",
       "\n",
       "    .dataframe thead th {\n",
       "        text-align: right;\n",
       "    }\n",
       "</style>\n",
       "<table border=\"1\" class=\"dataframe\">\n",
       "  <thead>\n",
       "    <tr style=\"text-align: right;\">\n",
       "      <th></th>\n",
       "      <th>Parch</th>\n",
       "      <th>Survived</th>\n",
       "    </tr>\n",
       "  </thead>\n",
       "  <tbody>\n",
       "    <tr>\n",
       "      <th>0</th>\n",
       "      <td>0</td>\n",
       "      <td>34.365782</td>\n",
       "    </tr>\n",
       "    <tr>\n",
       "      <th>1</th>\n",
       "      <td>1</td>\n",
       "      <td>55.084746</td>\n",
       "    </tr>\n",
       "    <tr>\n",
       "      <th>2</th>\n",
       "      <td>2</td>\n",
       "      <td>50.0</td>\n",
       "    </tr>\n",
       "    <tr>\n",
       "      <th>3</th>\n",
       "      <td>3</td>\n",
       "      <td>60.0</td>\n",
       "    </tr>\n",
       "    <tr>\n",
       "      <th>4</th>\n",
       "      <td>4</td>\n",
       "      <td>0.0</td>\n",
       "    </tr>\n",
       "    <tr>\n",
       "      <th>5</th>\n",
       "      <td>5</td>\n",
       "      <td>20.0</td>\n",
       "    </tr>\n",
       "    <tr>\n",
       "      <th>6</th>\n",
       "      <td>6</td>\n",
       "      <td>0.0</td>\n",
       "    </tr>\n",
       "  </tbody>\n",
       "</table>\n",
       "</div>"
      ],
      "text/plain": [
       "   Parch   Survived\n",
       "0      0  34.365782\n",
       "1      1  55.084746\n",
       "2      2       50.0\n",
       "3      3       60.0\n",
       "4      4        0.0\n",
       "5      5       20.0\n",
       "6      6        0.0"
      ]
     },
     "execution_count": 50,
     "metadata": {},
     "output_type": "execute_result"
    }
   ],
   "source": [
    "survival_rate_by_Parch"
   ]
  },
  {
   "cell_type": "markdown",
   "metadata": {},
   "source": [
    "##### **Bước 2:** Trực quan hóa kết quả bằng biểu đồ cột"
   ]
  },
  {
   "cell_type": "code",
   "execution_count": 31,
   "metadata": {},
   "outputs": [
    {
     "data": {
      "image/png": "[encoded data removed]",
      "text/plain": [
       "<Figure size 1200x600 with 2 Axes>"
      ]
     },
     "metadata": {},
     "output_type": "display_data"
    }
   ],
   "source": [
    "plt.figure(figsize=(12, 6))\n",
    "\n",
    "plt.subplot(1, 2, 1)\n",
    "plt.bar(survival_rate_by_SibSp['SibSp'], survival_rate_by_SibSp['Survived'])\n",
    "plt.xlabel('SibSp')\n",
    "plt.ylabel('Survival Rate(%)')\n",
    "plt.title('Survival Rate by SibSp')\n",
    "\n",
    "plt.subplot(1, 2, 2)\n",
    "plt.bar(survival_rate_by_Parch['Parch'], survival_rate_by_Parch['Survived'], color='pink')\n",
    "plt.xlabel('Parch')\n",
    "plt.ylabel('Survival Rate(%)')\n",
    "plt.title('Survival Rate by Parch')\n",
    "\n",
    "plt.tight_layout()\n",
    "plt.show()"
   ]
  },
  {
   "cell_type": "markdown",
   "metadata": {},
   "source": [
    "**Nhận xét:**\n",
    "- Tỷ lệ sống sót trung bình giảm khi có thêm những hành khách cùng tăng lên, có thể do việc đi cùng nhiều người tạo ra khó khăn trong việc di chuyển hoặc tìm đường thoát hiểm trong tình huống khẩn cấp. Điều này có thể làm giảm khả năng sống sót của những người đi cùng nhiều thành viên gia đình.\n",
    "- Tuy nhiên, nhìn chung, tỷ lệ sống sót thường cao hơn đối với những hành khách đi cùng (có SibSp hoặc Parch khác 0) so với những hành khách đi một mình (SibSp và Parch đều bằng 0).\n",
    "- Điều này có thể liên quan đến việc hành khách đi cùng có thêm sự hỗ trợ và giúp đỡ trong tình huống khẩn cấp, cũng như có thể chia sẻ và tìm kiếm sự giúp đỡ từ những người thân quen khi đối mặt với tình huống nguy hiểm."
   ]
  }
 ],
 "metadata": {
  "kernelspec": {
   "display_name": "Python 3",
   "language": "python",
   "name": "python3"
  },
  "language_info": {
   "codemirror_mode": {
    "name": "ipython",
    "version": 3
   },
   "file_extension": ".py",
   "mimetype": "text/x-python",
   "name": "python",
   "nbconvert_exporter": "python",
   "pygments_lexer": "ipython3",
   "version": "3.11.8"
  }
 },
 "nbformat": 4,
 "nbformat_minor": 2
}
