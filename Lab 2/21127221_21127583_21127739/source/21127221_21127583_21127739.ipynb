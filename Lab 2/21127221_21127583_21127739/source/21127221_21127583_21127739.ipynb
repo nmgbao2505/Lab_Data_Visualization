{
 "cells": [
  {
   "cell_type": "markdown",
   "metadata": {},
   "source": [
    "<div style=\"text-align: center; background-color: #0A6EBD; font-family: 'Trebuchet MS', Arial, sans-serif; color: white; padding: 20px; font-size: 40px; font-weight: bold; border-radius: 0 0 0 0; box-shadow: 0px 6px 8px rgba(0, 0, 0, 0.2);\">\n",
    "  Lab 02 - Netflix\n",
    "</div>"
   ]
  },
  {
   "cell_type": "markdown",
   "metadata": {},
   "source": [
    "#### Thành viên 1:\n",
    "##### * **Họ và tên:** Võ Duy Anh\n",
    "##### * **MSSV:** 21127221\n",
    "\n",
    "\n",
    "#### Thành viên 2:\n",
    "##### * **Họ và tên:** Nguyễn Mậu Gia Bảo\n",
    "##### * **MSSV:** 21127583\n",
    "\n",
    "\n",
    "#### Thành viên 3:\n",
    "##### * **Họ và tên:** Vũ Minh Phát\n",
    "##### * **MSSV:** 21127739"
   ]
  },
  {
   "cell_type": "markdown",
   "metadata": {},
   "source": [
    "### **Thư viện hỗ trợ**"
   ]
  },
  {
   "cell_type": "code",
   "execution_count": 1,
   "metadata": {},
   "outputs": [],
   "source": [
    "import pandas as pd\n",
    "import seaborn as sns\n",
    "import matplotlib.pyplot as plt\n",
    "import numpy as np\n",
    "\n",
    "import warnings\n",
    "warnings.filterwarnings(\"ignore\")"
   ]
  },
  {
   "cell_type": "markdown",
   "metadata": {},
   "source": [
    "### **1. Khám phá dữ liệu**"
   ]
  },
  {
   "cell_type": "markdown",
   "metadata": {},
   "source": [
    "#### 📌 Đọc dữ liệu từ file"
   ]
  },
  {
   "cell_type": "code",
   "execution_count": 2,
   "metadata": {},
   "outputs": [],
   "source": [
    "movie_df = pd.read_csv('data/Netflix_Dataset_Movie.csv')\n",
    "rating_df = pd.read_csv('data/Netflix_Dataset_Rating.csv')"
   ]
  },
  {
   "cell_type": "markdown",
   "metadata": {},
   "source": [
    "#### 📌 Dữ liệu có bao nhiêu hàng và bao nhiêu cột?"
   ]
  },
  {
   "cell_type": "code",
   "execution_count": 3,
   "metadata": {},
   "outputs": [
    {
     "name": "stdout",
     "output_type": "stream",
     "text": [
      "Netflix_Dataset_Movie\n",
      "Dữ liệu có 17770 hàng và 3 cột\n"
     ]
    }
   ],
   "source": [
    "print(\"Netflix_Dataset_Movie\")\n",
    "row,col = movie_df.shape\n",
    "print(f'Dữ liệu có {row} hàng và {col} cột')"
   ]
  },
  {
   "cell_type": "code",
   "execution_count": 4,
   "metadata": {},
   "outputs": [
    {
     "name": "stdout",
     "output_type": "stream",
     "text": [
      "Netflix_Dataset_Rating\n",
      "Dữ liệu có 17337458 hàng và 3 cột\n"
     ]
    }
   ],
   "source": [
    "print(\"Netflix_Dataset_Rating\")\n",
    "row,col = rating_df.shape\n",
    "print(f'Dữ liệu có {row} hàng và {col} cột')"
   ]
  },
  {
   "cell_type": "markdown",
   "metadata": {},
   "source": [
    "#### 📌 Ý nghĩa của mỗi hàng là gì?"
   ]
  },
  {
   "cell_type": "markdown",
   "metadata": {},
   "source": [
    "Mỗi hàng trong `Netflix_Dataset_Movie` cung cấp thông tin chi tiết về một bộ phim cụ thể, bao gồm thông tin như tên phim, năm phát hành và mã id của từng bộ phim.\n",
    "\n",
    "Mỗi hàng trong `Netflix_Dataset_Rating` cung cấp thông tin chi tiết về đánh giá của một người xem đối với một bộ phim cụ thể, bao gồm thông tin như mã id khách hàng, đánh giá (1-5) và mã id của từng bộ phim."
   ]
  },
  {
   "cell_type": "markdown",
   "metadata": {},
   "source": [
    "####  📌 Dữ liệu có các dòng bị lặp không?"
   ]
  },
  {
   "cell_type": "code",
   "execution_count": 5,
   "metadata": {},
   "outputs": [
    {
     "name": "stdout",
     "output_type": "stream",
     "text": [
      "Netflix_Dataset_Movie\n",
      "Dữ liệu không có dòng bị trùng lặp!\n"
     ]
    }
   ],
   "source": [
    "print(\"Netflix_Dataset_Movie\")\n",
    "detectDupSeries = movie_df.duplicated(keep='first')\n",
    "num_duplicated_rows = detectDupSeries.sum()\n",
    "\n",
    "if num_duplicated_rows == 0:\n",
    "    print(\"Dữ liệu không có dòng bị trùng lặp!\")\n",
    "else:\n",
    "    print(f\"Dữ liệu có {num_duplicated_rows} dòng bị trùng lặp.\")"
   ]
  },
  {
   "cell_type": "code",
   "execution_count": 6,
   "metadata": {},
   "outputs": [
    {
     "name": "stdout",
     "output_type": "stream",
     "text": [
      "Netflix_Dataset_Rating\n"
     ]
    },
    {
     "name": "stdout",
     "output_type": "stream",
     "text": [
      "Dữ liệu không có dòng bị trùng lặp!\n"
     ]
    }
   ],
   "source": [
    "print(\"Netflix_Dataset_Rating\")\n",
    "detectDupSeries = rating_df.duplicated(keep='first')\n",
    "num_duplicated_rows = detectDupSeries.sum()\n",
    "\n",
    "if num_duplicated_rows == 0:\n",
    "    print(\"Dữ liệu không có dòng bị trùng lặp!\")\n",
    "else:\n",
    "    print(f\"Dữ liệu có {num_duplicated_rows} dòng bị trùng lặp.\")"
   ]
  },
  {
   "cell_type": "markdown",
   "metadata": {},
   "source": [
    "#### 📌 Ý nghĩa của mỗi cột là gì?"
   ]
  },
  {
   "cell_type": "markdown",
   "metadata": {},
   "source": [
    "<table style=\"width: 100%; border-collapse: collapse;\">\n",
    "  <thead>\n",
    "    <tr>\n",
    "      <th style=\"min-width: 10px; width: 30px; background-color: #04B1CC; color: white; font-size :15px; font-weight: bold; text-align: left; padding: 8px;\">STT</th>\n",
    "      <th style=\"background-color: #04B1CC; color: white; font-size :15px; font-weight: bold; text-align: left; padding: 8px;\">Cột</th>\n",
    "      <th style=\"background-color: #04B1CC; color: white; font-size :15px; font-weight: bold; text-align: left; padding: 8px;\">Ý nghĩa</th>\n",
    "    </tr>\n",
    "  </thead>\n",
    "  <tbody>\n",
    "    <tr>\n",
    "      <td style=\"font-size: 14px; text-align: left;\">1</td>\n",
    "      <td style=\"font-size: 14px; text-align: left;\">Movie_ID</td>\n",
    "      <td style=\"font-size: 14px; text-align: left;\">ID định danh cho mỗi phim.</td>\n",
    "    </tr>\n",
    "    <tr>\n",
    "      <td style=\"font-size: 14px; text-align: left;\">2</td>\n",
    "      <td style=\"font-size: 14px; text-align: left;\">Year</td>\n",
    "      <td style=\"font-size: 14px; text-align: left;\">Năm phát hành của phim.</td>\n",
    "    </tr>\n",
    "    <tr>\n",
    "      <td style=\"font-size: 14px; text-align: left;\">3</td>\n",
    "      <td style=\"font-size: 14px; text-align: left;\">Name</td>\n",
    "      <td style=\"font-size: 14px; text-align: left;\">Tên của phim.</td>\n",
    "    </tr>\n",
    "  </tbody>\n",
    "</table>"
   ]
  },
  {
   "cell_type": "markdown",
   "metadata": {},
   "source": [
    "<table style=\"width: 100%; border-collapse: collapse;\">\n",
    "  <thead>\n",
    "    <tr>\n",
    "      <th style=\"min-width: 10px; width: 30px; background-color: #04B1CC; color: white; font-size :15px; font-weight: bold; text-align: left; padding: 8px;\">STT</th>\n",
    "      <th style=\"background-color: #04B1CC; color: white; font-size :15px; font-weight: bold; text-align: left; padding: 8px;\">Cột</th>\n",
    "      <th style=\"background-color: #04B1CC; color: white; font-size :15px; font-weight: bold; text-align: left; padding: 8px;\">Ý nghĩa</th>\n",
    "    </tr>\n",
    "  </thead>\n",
    "  <tbody>\n",
    "    <tr>\n",
    "      <td style=\"font-size: 14px; text-align: left;\">1</td>\n",
    "      <td style=\"font-size: 14px; text-align: left;\">User_ID</td>\n",
    "      <td style=\"font-size: 14px; text-align: left;\">ID định danh cho mỗi người xem.</td>\n",
    "    </tr>\n",
    "    <tr>\n",
    "      <td style=\"font-size: 14px; text-align: left;\">2</td>\n",
    "      <td style=\"font-size: 14px; text-align: left;\">Rating</td>\n",
    "      <td style=\"font-size: 14px; text-align: left;\">Lượt đánh giá của người xem (giá trị từ 1 đến 5).</td>\n",
    "    </tr>\n",
    "    <tr>\n",
    "      <td style=\"font-size: 14px; text-align: left;\">3</td>\n",
    "      <td style=\"font-size: 14px; text-align: left;\">Movie_ID</td>\n",
    "      <td style=\"font-size: 14px; text-align: left;\">ID định danh cho mỗi phim.</td>\n",
    "    </tr>\n",
    "  </tbody>\n",
    "</table>"
   ]
  },
  {
   "cell_type": "markdown",
   "metadata": {},
   "source": [
    "#### 📌 Kiểu dữ liệu hiện tại của mỗi cột là gì? Có cột nào có kiểu dữ liệu không phù hợp không?"
   ]
  },
  {
   "cell_type": "code",
   "execution_count": 7,
   "metadata": {},
   "outputs": [
    {
     "name": "stdout",
     "output_type": "stream",
     "text": [
      "<class 'pandas.core.frame.DataFrame'>\n",
      "RangeIndex: 17770 entries, 0 to 17769\n",
      "Data columns (total 3 columns):\n",
      " #   Column    Non-Null Count  Dtype \n",
      "---  ------    --------------  ----- \n",
      " 0   Movie_ID  17770 non-null  int64 \n",
      " 1   Year      17770 non-null  int64 \n",
      " 2   Name      17770 non-null  object\n",
      "dtypes: int64(2), object(1)\n",
      "memory usage: 416.6+ KB\n"
     ]
    }
   ],
   "source": [
    "movie_df.info()"
   ]
  },
  {
   "cell_type": "code",
   "execution_count": 8,
   "metadata": {},
   "outputs": [
    {
     "name": "stdout",
     "output_type": "stream",
     "text": [
      "<class 'pandas.core.frame.DataFrame'>\n",
      "RangeIndex: 17337458 entries, 0 to 17337457\n",
      "Data columns (total 3 columns):\n",
      " #   Column    Dtype\n",
      "---  ------    -----\n",
      " 0   User_ID   int64\n",
      " 1   Rating    int64\n",
      " 2   Movie_ID  int64\n",
      "dtypes: int64(3)\n",
      "memory usage: 396.8 MB\n"
     ]
    }
   ],
   "source": [
    "rating_df.info()"
   ]
  },
  {
   "cell_type": "markdown",
   "metadata": {},
   "source": [
    "- Cột `Movie_ID` là mã định dang từng phim nên cần chuyển về object để phân vào categotical.\n",
    "- Cột `User_ID` là mã định dang từng người xem nên cần chuyển về object để phân vào categotical."
   ]
  },
  {
   "cell_type": "code",
   "execution_count": 9,
   "metadata": {},
   "outputs": [],
   "source": [
    "movie_df['Movie_ID'] = movie_df['Movie_ID'].astype('object')\n",
    "rating_df['Movie_ID'] = rating_df['Movie_ID'].astype('object')\n",
    "rating_df['User_ID'] = rating_df['User_ID'].astype('object')"
   ]
  },
  {
   "cell_type": "markdown",
   "metadata": {},
   "source": [
    "#### 📌 Đối với mỗi cột có kiểu dữ liệu số, các giá trị được phân bố như thế nào?"
   ]
  },
  {
   "cell_type": "markdown",
   "metadata": {},
   "source": [
    "📚 Đối với các cột có kiểu dữ liệu số, nhóm sẽ tính toán một số thống kê cơ bản:\n",
    "- Tỷ lệ phần trăm (từ 0 đến 100) giá trị bị thiếu\n",
    "- The min\n",
    "- The lower quartile (phân vị 25)\n",
    "- The median (phân vị 50)\n",
    "- The upper quartile (phân vị 75)\n",
    "- The max\n"
   ]
  },
  {
   "cell_type": "code",
   "execution_count": 10,
   "metadata": {},
   "outputs": [
    {
     "name": "stdout",
     "output_type": "stream",
     "text": [
      "Netflix_Dataset_Movie\n"
     ]
    },
    {
     "data": {
      "text/html": [
       "<div>\n",
       "<style scoped>\n",
       "    .dataframe tbody tr th:only-of-type {\n",
       "        vertical-align: middle;\n",
       "    }\n",
       "\n",
       "    .dataframe tbody tr th {\n",
       "        vertical-align: top;\n",
       "    }\n",
       "\n",
       "    .dataframe thead th {\n",
       "        text-align: right;\n",
       "    }\n",
       "</style>\n",
       "<table border=\"1\" class=\"dataframe\">\n",
       "  <thead>\n",
       "    <tr style=\"text-align: right;\">\n",
       "      <th></th>\n",
       "      <th>missing_ratio</th>\n",
       "      <th>min</th>\n",
       "      <th>lower_quartile</th>\n",
       "      <th>median</th>\n",
       "      <th>upper_quartile</th>\n",
       "      <th>max</th>\n",
       "    </tr>\n",
       "  </thead>\n",
       "  <tbody>\n",
       "    <tr>\n",
       "      <th>Year</th>\n",
       "      <td>0.0</td>\n",
       "      <td>1915.0</td>\n",
       "      <td>1985.0</td>\n",
       "      <td>1997.0</td>\n",
       "      <td>2002.0</td>\n",
       "      <td>2005.0</td>\n",
       "    </tr>\n",
       "  </tbody>\n",
       "</table>\n",
       "</div>"
      ],
      "text/plain": [
       "      missing_ratio     min  lower_quartile  median  upper_quartile     max\n",
       "Year            0.0  1915.0          1985.0  1997.0          2002.0  2005.0"
      ]
     },
     "execution_count": 10,
     "metadata": {},
     "output_type": "execute_result"
    }
   ],
   "source": [
    "print(\"Netflix_Dataset_Movie\")\n",
    "num_col_info_df = movie_df.select_dtypes(exclude=['object', 'bool'])\n",
    "\n",
    "def missing_ratio(s):\n",
    "    return (s.isna().mean() * 100)\n",
    "\n",
    "def median(df):\n",
    "    return (df.quantile(0.5))\n",
    "\n",
    "def lower_quartile(df):\n",
    "    return (df.quantile(0.25))\n",
    "\n",
    "def upper_quartile(df):\n",
    "    return (df.quantile(0.75))\n",
    "\n",
    "num_col_info_df = num_col_info_df.agg([missing_ratio, \"min\", lower_quartile, median, upper_quartile, \"max\"])\n",
    "num_col_info_df.T"
   ]
  },
  {
   "cell_type": "code",
   "execution_count": 11,
   "metadata": {},
   "outputs": [
    {
     "name": "stdout",
     "output_type": "stream",
     "text": [
      "Netflix_Dataset_Rating\n"
     ]
    },
    {
     "data": {
      "text/html": [
       "<div>\n",
       "<style scoped>\n",
       "    .dataframe tbody tr th:only-of-type {\n",
       "        vertical-align: middle;\n",
       "    }\n",
       "\n",
       "    .dataframe tbody tr th {\n",
       "        vertical-align: top;\n",
       "    }\n",
       "\n",
       "    .dataframe thead th {\n",
       "        text-align: right;\n",
       "    }\n",
       "</style>\n",
       "<table border=\"1\" class=\"dataframe\">\n",
       "  <thead>\n",
       "    <tr style=\"text-align: right;\">\n",
       "      <th></th>\n",
       "      <th>missing_ratio</th>\n",
       "      <th>min</th>\n",
       "      <th>lower_quartile</th>\n",
       "      <th>median</th>\n",
       "      <th>upper_quartile</th>\n",
       "      <th>max</th>\n",
       "    </tr>\n",
       "  </thead>\n",
       "  <tbody>\n",
       "    <tr>\n",
       "      <th>Rating</th>\n",
       "      <td>0.0</td>\n",
       "      <td>1.0</td>\n",
       "      <td>3.0</td>\n",
       "      <td>4.0</td>\n",
       "      <td>4.0</td>\n",
       "      <td>5.0</td>\n",
       "    </tr>\n",
       "  </tbody>\n",
       "</table>\n",
       "</div>"
      ],
      "text/plain": [
       "        missing_ratio  min  lower_quartile  median  upper_quartile  max\n",
       "Rating            0.0  1.0             3.0     4.0             4.0  5.0"
      ]
     },
     "execution_count": 11,
     "metadata": {},
     "output_type": "execute_result"
    }
   ],
   "source": [
    "print(\"Netflix_Dataset_Rating\")\n",
    "num_col_info_df = rating_df.select_dtypes(exclude=['object', 'bool'])\n",
    "\n",
    "def missing_ratio(s):\n",
    "    return (s.isna().mean() * 100)\n",
    "\n",
    "def median(df):\n",
    "    return (df.quantile(0.5))\n",
    "\n",
    "def lower_quartile(df):\n",
    "    return (df.quantile(0.25))\n",
    "\n",
    "def upper_quartile(df):\n",
    "    return (df.quantile(0.75))\n",
    "\n",
    "num_col_info_df = num_col_info_df.agg([missing_ratio, \"min\", lower_quartile, median, upper_quartile, \"max\"])\n",
    "num_col_info_df.T"
   ]
  },
  {
   "cell_type": "markdown",
   "metadata": {},
   "source": [
    "Nhìn chung , không có điều gì bất thường đối với kiểu dữ liệu dạng số."
   ]
  },
  {
   "cell_type": "markdown",
   "metadata": {},
   "source": [
    "#### 📌 Đối với mỗi cột có kiểu dữ liệu không phải là số, các giá trị được phân phối như thế nào?"
   ]
  },
  {
   "cell_type": "markdown",
   "metadata": {},
   "source": [
    "📚 Đối với các cột có kiểu dữ liệu không phải là số, nhóm sẽ tính toán:\n",
    "- Tỷ lệ phần trăm (từ 0 đến 100) giá trị bị thiếu\n",
    "- Số lượng giá trị khác nhau\n",
    "- Hiển thị một vài giá trị và phần trăm (từ 0 đến 100) của từng giá trị\n"
   ]
  },
  {
   "cell_type": "code",
   "execution_count": 12,
   "metadata": {},
   "outputs": [
    {
     "name": "stdout",
     "output_type": "stream",
     "text": [
      "Netflix_Dataset_Movie\n"
     ]
    },
    {
     "data": {
      "text/html": [
       "<div>\n",
       "<style scoped>\n",
       "    .dataframe tbody tr th:only-of-type {\n",
       "        vertical-align: middle;\n",
       "    }\n",
       "\n",
       "    .dataframe tbody tr th {\n",
       "        vertical-align: top;\n",
       "    }\n",
       "\n",
       "    .dataframe thead th {\n",
       "        text-align: right;\n",
       "    }\n",
       "</style>\n",
       "<table border=\"1\" class=\"dataframe\">\n",
       "  <thead>\n",
       "    <tr style=\"text-align: right;\">\n",
       "      <th></th>\n",
       "      <th>missing_ratio</th>\n",
       "      <th>num_values</th>\n",
       "      <th>value_ratios</th>\n",
       "    </tr>\n",
       "  </thead>\n",
       "  <tbody>\n",
       "    <tr>\n",
       "      <th>Movie_ID</th>\n",
       "      <td>0.0</td>\n",
       "      <td>17770</td>\n",
       "      <td>{17770: 0.0, 1: 0.0, 2: 0.0, 3: 0.0, 4: 0.0, 5...</td>\n",
       "    </tr>\n",
       "    <tr>\n",
       "      <th>Name</th>\n",
       "      <td>0.0</td>\n",
       "      <td>17297</td>\n",
       "      <td>{'Dr. Quinn': 0.0, 'The Hunchback of Notre Dam...</td>\n",
       "    </tr>\n",
       "  </tbody>\n",
       "</table>\n",
       "</div>"
      ],
      "text/plain": [
       "         missing_ratio num_values  \\\n",
       "Movie_ID           0.0      17770   \n",
       "Name               0.0      17297   \n",
       "\n",
       "                                               value_ratios  \n",
       "Movie_ID  {17770: 0.0, 1: 0.0, 2: 0.0, 3: 0.0, 4: 0.0, 5...  \n",
       "Name      {'Dr. Quinn': 0.0, 'The Hunchback of Notre Dam...  "
      ]
     },
     "execution_count": 12,
     "metadata": {},
     "output_type": "execute_result"
    }
   ],
   "source": [
    "print(\"Netflix_Dataset_Movie\")\n",
    "cat_col_info_df = movie_df.select_dtypes(include=['object', 'bool'])\n",
    "\n",
    "def missing_ratio(s):\n",
    "    return (s.isna().mean() * 100)\n",
    "\n",
    "def num_values(s):\n",
    "    return len(s.value_counts())\n",
    "\n",
    "def value_ratios(s):\n",
    "    totalCount = (~s.isna()).sum()\n",
    "    return ((s.value_counts()/totalCount*100).round(1)).to_dict()\n",
    "\n",
    "cat_col_info_df = cat_col_info_df.agg([missing_ratio, num_values, value_ratios])\n",
    "cat_col_info_df.T"
   ]
  },
  {
   "cell_type": "code",
   "execution_count": 13,
   "metadata": {},
   "outputs": [
    {
     "name": "stdout",
     "output_type": "stream",
     "text": [
      "Netflix_Dataset_Rating\n"
     ]
    },
    {
     "data": {
      "text/html": [
       "<div>\n",
       "<style scoped>\n",
       "    .dataframe tbody tr th:only-of-type {\n",
       "        vertical-align: middle;\n",
       "    }\n",
       "\n",
       "    .dataframe tbody tr th {\n",
       "        vertical-align: top;\n",
       "    }\n",
       "\n",
       "    .dataframe thead th {\n",
       "        text-align: right;\n",
       "    }\n",
       "</style>\n",
       "<table border=\"1\" class=\"dataframe\">\n",
       "  <thead>\n",
       "    <tr style=\"text-align: right;\">\n",
       "      <th></th>\n",
       "      <th>missing_ratio</th>\n",
       "      <th>num_values</th>\n",
       "      <th>value_ratios</th>\n",
       "    </tr>\n",
       "  </thead>\n",
       "  <tbody>\n",
       "    <tr>\n",
       "      <th>User_ID</th>\n",
       "      <td>0.0</td>\n",
       "      <td>143458</td>\n",
       "      <td>{305344: 0.0, 387418: 0.0, 2439493: 0.0, 21184...</td>\n",
       "    </tr>\n",
       "    <tr>\n",
       "      <th>Movie_ID</th>\n",
       "      <td>0.0</td>\n",
       "      <td>1350</td>\n",
       "      <td>{1905: 0.7, 2452: 0.6, 4306: 0.6, 571: 0.6, 38...</td>\n",
       "    </tr>\n",
       "  </tbody>\n",
       "</table>\n",
       "</div>"
      ],
      "text/plain": [
       "         missing_ratio num_values  \\\n",
       "User_ID            0.0     143458   \n",
       "Movie_ID           0.0       1350   \n",
       "\n",
       "                                               value_ratios  \n",
       "User_ID   {305344: 0.0, 387418: 0.0, 2439493: 0.0, 21184...  \n",
       "Movie_ID  {1905: 0.7, 2452: 0.6, 4306: 0.6, 571: 0.6, 38...  "
      ]
     },
     "execution_count": 13,
     "metadata": {},
     "output_type": "execute_result"
    }
   ],
   "source": [
    "print(\"Netflix_Dataset_Rating\")\n",
    "cat_col_info_df = rating_df.select_dtypes(include=['object', 'bool'])\n",
    "\n",
    "def missing_ratio(s):\n",
    "    return (s.isna().mean() * 100)\n",
    "\n",
    "def num_values(s):\n",
    "    return len(s.value_counts())\n",
    "\n",
    "def value_ratios(s):\n",
    "    totalCount = (~s.isna()).sum()\n",
    "    return ((s.value_counts()/totalCount*100).round(1)).to_dict()\n",
    "\n",
    "cat_col_info_df = cat_col_info_df.agg([missing_ratio, num_values, value_ratios])\n",
    "cat_col_info_df.T"
   ]
  },
  {
   "cell_type": "code",
   "execution_count": 14,
   "metadata": {},
   "outputs": [
    {
     "name": "stdout",
     "output_type": "stream",
     "text": [
      "<class 'pandas.core.frame.DataFrame'>\n",
      "RangeIndex: 17770 entries, 0 to 17769\n",
      "Data columns (total 3 columns):\n",
      " #   Column    Non-Null Count  Dtype \n",
      "---  ------    --------------  ----- \n",
      " 0   Movie_ID  17770 non-null  object\n",
      " 1   Year      17770 non-null  int64 \n",
      " 2   Name      17770 non-null  object\n",
      "dtypes: int64(1), object(2)\n",
      "memory usage: 416.6+ KB\n"
     ]
    }
   ],
   "source": [
    "movie_df.info()"
   ]
  },
  {
   "cell_type": "code",
   "execution_count": 15,
   "metadata": {},
   "outputs": [
    {
     "name": "stdout",
     "output_type": "stream",
     "text": [
      "<class 'pandas.core.frame.DataFrame'>\n",
      "RangeIndex: 17337458 entries, 0 to 17337457\n",
      "Data columns (total 3 columns):\n",
      " #   Column    Dtype \n",
      "---  ------    ----- \n",
      " 0   User_ID   object\n",
      " 1   Rating    int64 \n",
      " 2   Movie_ID  object\n",
      "dtypes: int64(1), object(2)\n",
      "memory usage: 396.8+ MB\n"
     ]
    }
   ],
   "source": [
    "rating_df.info()"
   ]
  },
  {
   "cell_type": "markdown",
   "metadata": {},
   "source": [
    "Lấy 5 dữ liệu ra làm mẫu"
   ]
  },
  {
   "cell_type": "code",
   "execution_count": 16,
   "metadata": {
    "scrolled": true
   },
   "outputs": [
    {
     "data": {
      "text/html": [
       "<div>\n",
       "<style scoped>\n",
       "    .dataframe tbody tr th:only-of-type {\n",
       "        vertical-align: middle;\n",
       "    }\n",
       "\n",
       "    .dataframe tbody tr th {\n",
       "        vertical-align: top;\n",
       "    }\n",
       "\n",
       "    .dataframe thead th {\n",
       "        text-align: right;\n",
       "    }\n",
       "</style>\n",
       "<table border=\"1\" class=\"dataframe\">\n",
       "  <thead>\n",
       "    <tr style=\"text-align: right;\">\n",
       "      <th></th>\n",
       "      <th>Movie_ID</th>\n",
       "      <th>Year</th>\n",
       "      <th>Name</th>\n",
       "    </tr>\n",
       "  </thead>\n",
       "  <tbody>\n",
       "    <tr>\n",
       "      <th>13520</th>\n",
       "      <td>13521</td>\n",
       "      <td>1965</td>\n",
       "      <td>The Greatest Story Ever Told: Bonus Material</td>\n",
       "    </tr>\n",
       "    <tr>\n",
       "      <th>3538</th>\n",
       "      <td>3539</td>\n",
       "      <td>2003</td>\n",
       "      <td>National Geographic: Inside Mecca</td>\n",
       "    </tr>\n",
       "    <tr>\n",
       "      <th>13446</th>\n",
       "      <td>13447</td>\n",
       "      <td>1994</td>\n",
       "      <td>Revenge of the Kung Fu Master</td>\n",
       "    </tr>\n",
       "    <tr>\n",
       "      <th>7243</th>\n",
       "      <td>7244</td>\n",
       "      <td>2004</td>\n",
       "      <td>History of Rock 'N' Roll</td>\n",
       "    </tr>\n",
       "    <tr>\n",
       "      <th>11964</th>\n",
       "      <td>11965</td>\n",
       "      <td>2002</td>\n",
       "      <td>Madea's Family Reunion (Stage Play)</td>\n",
       "    </tr>\n",
       "  </tbody>\n",
       "</table>\n",
       "</div>"
      ],
      "text/plain": [
       "      Movie_ID  Year                                          Name\n",
       "13520    13521  1965  The Greatest Story Ever Told: Bonus Material\n",
       "3538      3539  2003             National Geographic: Inside Mecca\n",
       "13446    13447  1994                 Revenge of the Kung Fu Master\n",
       "7243      7244  2004                      History of Rock 'N' Roll\n",
       "11964    11965  2002           Madea's Family Reunion (Stage Play)"
      ]
     },
     "execution_count": 16,
     "metadata": {},
     "output_type": "execute_result"
    }
   ],
   "source": [
    "movie_df.sample(5)"
   ]
  },
  {
   "cell_type": "code",
   "execution_count": 17,
   "metadata": {},
   "outputs": [
    {
     "data": {
      "text/html": [
       "<div>\n",
       "<style scoped>\n",
       "    .dataframe tbody tr th:only-of-type {\n",
       "        vertical-align: middle;\n",
       "    }\n",
       "\n",
       "    .dataframe tbody tr th {\n",
       "        vertical-align: top;\n",
       "    }\n",
       "\n",
       "    .dataframe thead th {\n",
       "        text-align: right;\n",
       "    }\n",
       "</style>\n",
       "<table border=\"1\" class=\"dataframe\">\n",
       "  <thead>\n",
       "    <tr style=\"text-align: right;\">\n",
       "      <th></th>\n",
       "      <th>User_ID</th>\n",
       "      <th>Rating</th>\n",
       "      <th>Movie_ID</th>\n",
       "    </tr>\n",
       "  </thead>\n",
       "  <tbody>\n",
       "    <tr>\n",
       "      <th>2227553</th>\n",
       "      <td>1219722</td>\n",
       "      <td>3</td>\n",
       "      <td>571</td>\n",
       "    </tr>\n",
       "    <tr>\n",
       "      <th>8823272</th>\n",
       "      <td>1554822</td>\n",
       "      <td>3</td>\n",
       "      <td>2372</td>\n",
       "    </tr>\n",
       "    <tr>\n",
       "      <th>1718938</th>\n",
       "      <td>2115145</td>\n",
       "      <td>3</td>\n",
       "      <td>445</td>\n",
       "    </tr>\n",
       "    <tr>\n",
       "      <th>14150752</th>\n",
       "      <td>1810074</td>\n",
       "      <td>4</td>\n",
       "      <td>3730</td>\n",
       "    </tr>\n",
       "    <tr>\n",
       "      <th>14331840</th>\n",
       "      <td>574220</td>\n",
       "      <td>4</td>\n",
       "      <td>3782</td>\n",
       "    </tr>\n",
       "  </tbody>\n",
       "</table>\n",
       "</div>"
      ],
      "text/plain": [
       "          User_ID  Rating Movie_ID\n",
       "2227553   1219722       3      571\n",
       "8823272   1554822       3     2372\n",
       "1718938   2115145       3      445\n",
       "14150752  1810074       4     3730\n",
       "14331840   574220       4     3782"
      ]
     },
     "execution_count": 17,
     "metadata": {},
     "output_type": "execute_result"
    }
   ],
   "source": [
    "rating_df.sample(5)"
   ]
  },
  {
   "cell_type": "markdown",
   "metadata": {},
   "source": [
    "### **2. Đặt câu hỏi**"
   ]
  },
  {
   "cell_type": "markdown",
   "metadata": {},
   "source": [
    "#### 📚 **Câu 1: Số lượng phim được phát hành trong từng năm là như thế nào? Năm nào có nhiều phim nhất, ít phim nhất?**"
   ]
  },
  {
   "cell_type": "markdown",
   "metadata": {},
   "source": [
    "##### - Giúp chúng ta nhận biết mức độ phát triển của lĩnh vực phim theo thời gian, những thời điểm nào phát triển nhất và từ đó có thể giúp các nhà sản xuất phim dự đoán nhu cầu thị trường trong tương lai và lập kế hoạch sản xuất phim phù hợp.\n",
    "##### - Hiểu rõ xu hướng phát hành phim giúp người làm phim đưa ra các quyết định chiến lược thông minh hơn, từ việc chọn dự án phù hợp đến cách tiếp cận thị trường.\n",
    "##### - Hiểu rõ xu hướng phát hành phim giúp các rạp chiếu phim và các dịch vụ truyền hình định kỳ tối ưu hóa lịch chiếu để tối đa hóa doanh thu."
   ]
  },
  {
   "cell_type": "markdown",
   "metadata": {},
   "source": [
    "#### 📚 **Câu 2: Những phim nào được đánh giá trung bình cao nhất?**"
   ]
  },
  {
   "cell_type": "markdown",
   "metadata": {},
   "source": [
    "##### - Giúp chúng ta nhận biết bộ phim nào hay nhất, được nhiều người yêu thích, đánh giá cao nhất.\n",
    "##### - Hiểu rõ hơn về sở thích và xu hướng của khán giả, từ đó có thể phát triển các dự án phim mới phù hợp với đối tượng khán giả mục tiêu.\n",
    "##### - Phân tích những phim được đánh giá cao giúp ngành công nghiệp điện ảnh định hình các tiêu chuẩn chất lượng cao hơn, từ việc kịch bản, đạo diễn, đến diễn xuất và kỹ thuật sản xuất.\n",
    "##### - Hiểu rõ về những phim được đánh giá cao có thể giúp các nhà sản xuất và nhà phân phối tối ưu hóa chiến lược mua bản quyền và phân phối, từ việc chọn lựa phim đến cách tiếp cận thị trường."
   ]
  },
  {
   "cell_type": "markdown",
   "metadata": {},
   "source": [
    "#### 📚 **Câu 3: Số điểm đánh giá phim trung bình qua mỗi năm thay đổi như thế nào?**"
   ]
  },
  {
   "cell_type": "markdown",
   "metadata": {},
   "source": [
    "##### - Phân tích này giúp hiểu rõ xu hướng chất lượng của ngành công nghiệp điện ảnh qua thời gian. Nếu số điểm đánh giá trung bình tăng, điều này có thể chỉ ra rằng chất lượng phim đang được cải thiện. Ngược lại, nếu số điểm giảm, có thể là dấu hiệu của một vấn đề nào đó trong ngành.\n",
    "##### - Thông qua phân tích này, các nhà sản xuất và nhà phân phối phim có thể phát triển chiến lược marketing phù hợp với xu hướng đánh giá của khán giả, giúp tối ưu hóa việc tiếp cận và thu hút đối tượng khán giả mục tiêu.\n",
    "##### - Hiểu rõ sự thay đổi của số điểm đánh giá phim trung bình qua mỗi năm giúp các nhà sản xuất phát triển chiến lược sản xuất phim thông minh hơn. Họ có thể tập trung vào các yếu tố nào trong sản xuất phim để cải thiện chất lượng và tăng cơ hội thành công."
   ]
  },
  {
   "cell_type": "markdown",
   "metadata": {},
   "source": [
    "### **3. Phân tích dữ liệu để trả lời từng câu hỏi**"
   ]
  },
  {
   "cell_type": "markdown",
   "metadata": {},
   "source": [
    "#### 📚 **Câu 1: Số lượng phim được phát hành trong từng năm là như thế nào? Năm nào có nhiều phim nhất, ít phim nhất?**"
   ]
  },
  {
   "cell_type": "markdown",
   "metadata": {},
   "source": [
    "##### **Bước 1:** Tính tổng số phim được phát hành trong mỗi năm"
   ]
  },
  {
   "cell_type": "markdown",
   "metadata": {},
   "source": [
    "Sử dụng groupby để nhóm dữ liệu theo giá trị trong cột `Year` và đếm số lượng của mỗi nhóm. Giá trị trả về là số lượng phim được phát hành mỗi năm."
   ]
  },
  {
   "cell_type": "code",
   "execution_count": 18,
   "metadata": {},
   "outputs": [
    {
     "data": {
      "text/html": [
       "<div>\n",
       "<style scoped>\n",
       "    .dataframe tbody tr th:only-of-type {\n",
       "        vertical-align: middle;\n",
       "    }\n",
       "\n",
       "    .dataframe tbody tr th {\n",
       "        vertical-align: top;\n",
       "    }\n",
       "\n",
       "    .dataframe thead th {\n",
       "        text-align: right;\n",
       "    }\n",
       "</style>\n",
       "<table border=\"1\" class=\"dataframe\">\n",
       "  <thead>\n",
       "    <tr style=\"text-align: right;\">\n",
       "      <th></th>\n",
       "      <th>Year</th>\n",
       "      <th>Count</th>\n",
       "    </tr>\n",
       "  </thead>\n",
       "  <tbody>\n",
       "    <tr>\n",
       "      <th>0</th>\n",
       "      <td>1915</td>\n",
       "      <td>16</td>\n",
       "    </tr>\n",
       "    <tr>\n",
       "      <th>1</th>\n",
       "      <td>1916</td>\n",
       "      <td>4</td>\n",
       "    </tr>\n",
       "    <tr>\n",
       "      <th>2</th>\n",
       "      <td>1917</td>\n",
       "      <td>3</td>\n",
       "    </tr>\n",
       "    <tr>\n",
       "      <th>3</th>\n",
       "      <td>1918</td>\n",
       "      <td>2</td>\n",
       "    </tr>\n",
       "    <tr>\n",
       "      <th>4</th>\n",
       "      <td>1919</td>\n",
       "      <td>8</td>\n",
       "    </tr>\n",
       "    <tr>\n",
       "      <th>...</th>\n",
       "      <td>...</td>\n",
       "      <td>...</td>\n",
       "    </tr>\n",
       "    <tr>\n",
       "      <th>86</th>\n",
       "      <td>2001</td>\n",
       "      <td>1184</td>\n",
       "    </tr>\n",
       "    <tr>\n",
       "      <th>87</th>\n",
       "      <td>2002</td>\n",
       "      <td>1310</td>\n",
       "    </tr>\n",
       "    <tr>\n",
       "      <th>88</th>\n",
       "      <td>2003</td>\n",
       "      <td>1271</td>\n",
       "    </tr>\n",
       "    <tr>\n",
       "      <th>89</th>\n",
       "      <td>2004</td>\n",
       "      <td>1436</td>\n",
       "    </tr>\n",
       "    <tr>\n",
       "      <th>90</th>\n",
       "      <td>2005</td>\n",
       "      <td>512</td>\n",
       "    </tr>\n",
       "  </tbody>\n",
       "</table>\n",
       "<p>91 rows × 2 columns</p>\n",
       "</div>"
      ],
      "text/plain": [
       "    Year  Count\n",
       "0   1915     16\n",
       "1   1916      4\n",
       "2   1917      3\n",
       "3   1918      2\n",
       "4   1919      8\n",
       "..   ...    ...\n",
       "86  2001   1184\n",
       "87  2002   1310\n",
       "88  2003   1271\n",
       "89  2004   1436\n",
       "90  2005    512\n",
       "\n",
       "[91 rows x 2 columns]"
      ]
     },
     "execution_count": 18,
     "metadata": {},
     "output_type": "execute_result"
    }
   ],
   "source": [
    "numbers_by_year = movie_df.groupby('Year').size().reset_index(name='Count')\n",
    "numbers_by_year"
   ]
  },
  {
   "cell_type": "markdown",
   "metadata": {},
   "source": [
    "`numbers_by_year` là một DataFrame chứa thông tin về số lượng phim phát hành mỗi năm, với cột `Year` chứa thông tin về các năm và cột `Count` số lượng phim mỗi năm phát hành."
   ]
  },
  {
   "cell_type": "markdown",
   "metadata": {},
   "source": [
    "##### **Bước 2:** Vẽ biểu đồ đường để có cái nhìn trực quan"
   ]
  },
  {
   "cell_type": "code",
   "execution_count": 19,
   "metadata": {},
   "outputs": [
    {
     "data": {
      "image/png": "[encoded data removed]",
      "text/plain": [
       "<Figure size 1500x800 with 1 Axes>"
      ]
     },
     "metadata": {},
     "output_type": "display_data"
    }
   ],
   "source": [
    "plt.figure(figsize=(15, 8))\n",
    "plt.plot(numbers_by_year['Year'], numbers_by_year['Count'], marker='o', linestyle='-')\n",
    "plt.title('Biểu đồ số lượng phim được phát hành theo từng năm')\n",
    "plt.xlabel('Năm')\n",
    "plt.ylabel('Số lượng phim được phát hành')\n",
    "plt.xticks(numbers_by_year['Year'], rotation=90)\n",
    "plt.grid(True)\n",
    "plt.show()"
   ]
  },
  {
   "cell_type": "markdown",
   "metadata": {},
   "source": [
    "**Nhận xét:**\n",
    "- Nhìn chung, số lượng phim được phát hành từu năm 1915 - 2005 có xu hướng chung là tăng, có thể thấy được sự phát triển theo thời gian của các nhà làm phim trong việc tăng sản lượng phim trong khoảng thời gian trên.\n",
    "- Số lượng phim được phát hành có xu hướng tăng chung theo thời gian. Có thể chia xu hướng này thành 4 giai đoạn:\n",
    "    - Giai đoạn 1 (từ năm 1915 đến năm 1956): Số lượng phim được phát hành tăng chậm, trung bình khoảng vài chục phim mỗi năm, số lượng phim tăng không đáng kể.\n",
    "    - Giai đoạn 2 (từ năm 1956 đến năm 1993): Số lượng phim được phát hành tăng nhanh và đều hơn, trung bình khoảng hơn 100 phim mỗi năm, đến giai đoạn 1993 đã đạt gần 400 phim một năm.\n",
    "    - Giai đoạn 3 (từ năm 1993 đến năm 2004): Số lượng phim được phát hành tăng vọt, chỉ trong vài năm số lượng phim mỗi năm đã tăng hơn 1000 bộ phim. Trong đó, trung bình tăng hơn 100 bộ phim mỗi năm, đặc biệt có năm còn tăng đến khoảng 300 bộ. Tuy có những năm có sự giảm sút so với năm trước đó, nhưng số lượng phim nhanh chóng phát triển ở năm tiếp theo. Số lượng phim đã đạt đến hơn 1400 phim một năm vào năm 2004.\n",
    "    - Giai đoạn 4 (từ năm 2004 đến năm 2005): Số lượng phim được phát hành giảm mạnh, giảm đến hơn 50% so với số lượng phim năm trước đó.\n",
    "- Có nhiều nguyên nhân dẫn đến xu hướng tăng chung số lượng phim được phát hành theo thời gian, bao gồm:\n",
    "    - Sự phát triển của công nghệ: Kỹ thuật sản xuất phim ảnh ngày càng tiên tiến, chi phí sản xuất phim giảm, giúp các nhà làm phim dễ dàng sản xuất phim hơn.\n",
    "    - Nhu cầu giải trí của người dân: Nhu cầu giải trí của người dân ngày càng tăng, đặc biệt là nhu cầu xem phim.\n",
    "    - Sự bùng nổ của internet: Internet giúp người xem dễ dàng tiếp cận các bộ phim từ khắp nơi trên thế giới, thúc đẩy nhu cầu sản xuất phim.\n",
    "- Sự tăng trưởng mạnh mẽ của ngành công nghiệp điện ảnh trong giai đoạn 1993 - 2004 là kết quả của nhiều yếu tố, bao gồm nhu cầu giải trí ngày càng tăng, sự phát triển của công nghệ, sự đa dạng hóa thể loại phim, sự bùng nổ của thị trường phim ở các nước đang phát triển và hoạt động marketing hiệu quả. Ngành công nghiệp điện ảnh dự kiến sẽ tiếp tục tăng trưởng trong tương lai, mang đến cho người xem nhiều tác phẩm điện ảnh hấp dẫn và mới mẻ hơn nữa.\n",
    "- Trong khoảng thời gian từ năm 2004 đến 2005, một sự kiện lớn có thể đã ảnh hưởng đến số lượng phim được phát hành là việc ra mắt YouTube vào tháng 2 năm 2005. YouTube đã tạo ra một sự đột phá lớn trong việc chia sẻ video trực tuyến và trở thành một trong những nền tảng phổ biến nhất cho việc xem video trực tuyến. Có thể đây là một phần nguyên nhân gây ra sự sụt giảm mạnh số lượng phim được phát hành vào năm 2005."
   ]
  },
  {
   "cell_type": "markdown",
   "metadata": {},
   "source": [
    "#### 📚 **Câu 2: Những phim nào được đánh giá trung bình cao nhất?**"
   ]
  },
  {
   "cell_type": "markdown",
   "metadata": {},
   "source": [
    "##### **Bước 1:** Tính số điểm đánh giá trung bình của mỗi phim"
   ]
  },
  {
   "cell_type": "markdown",
   "metadata": {},
   "source": [
    "Sử dụng groupby để nhóm dữ liệu theo giá trị trong cột `Movie_ID`, chọn cột `Rating` và tính trung bình. Giá trị trả về là điểm đánh giá trung bình của mỗi phim."
   ]
  },
  {
   "cell_type": "code",
   "execution_count": 20,
   "metadata": {},
   "outputs": [
    {
     "data": {
      "text/html": [
       "<div>\n",
       "<style scoped>\n",
       "    .dataframe tbody tr th:only-of-type {\n",
       "        vertical-align: middle;\n",
       "    }\n",
       "\n",
       "    .dataframe tbody tr th {\n",
       "        vertical-align: top;\n",
       "    }\n",
       "\n",
       "    .dataframe thead th {\n",
       "        text-align: right;\n",
       "    }\n",
       "</style>\n",
       "<table border=\"1\" class=\"dataframe\">\n",
       "  <thead>\n",
       "    <tr style=\"text-align: right;\">\n",
       "      <th></th>\n",
       "      <th>Movie_ID</th>\n",
       "      <th>Mean</th>\n",
       "    </tr>\n",
       "  </thead>\n",
       "  <tbody>\n",
       "    <tr>\n",
       "      <th>0</th>\n",
       "      <td>3</td>\n",
       "      <td>3.621391</td>\n",
       "    </tr>\n",
       "    <tr>\n",
       "      <th>1</th>\n",
       "      <td>8</td>\n",
       "      <td>3.136795</td>\n",
       "    </tr>\n",
       "    <tr>\n",
       "      <th>2</th>\n",
       "      <td>16</td>\n",
       "      <td>3.081843</td>\n",
       "    </tr>\n",
       "    <tr>\n",
       "      <th>3</th>\n",
       "      <td>17</td>\n",
       "      <td>2.909964</td>\n",
       "    </tr>\n",
       "    <tr>\n",
       "      <th>4</th>\n",
       "      <td>18</td>\n",
       "      <td>3.767597</td>\n",
       "    </tr>\n",
       "    <tr>\n",
       "      <th>...</th>\n",
       "      <td>...</td>\n",
       "      <td>...</td>\n",
       "    </tr>\n",
       "    <tr>\n",
       "      <th>1345</th>\n",
       "      <td>4488</td>\n",
       "      <td>3.540236</td>\n",
       "    </tr>\n",
       "    <tr>\n",
       "      <th>1346</th>\n",
       "      <td>4490</td>\n",
       "      <td>3.161849</td>\n",
       "    </tr>\n",
       "    <tr>\n",
       "      <th>1347</th>\n",
       "      <td>4492</td>\n",
       "      <td>2.652510</td>\n",
       "    </tr>\n",
       "    <tr>\n",
       "      <th>1348</th>\n",
       "      <td>4493</td>\n",
       "      <td>3.164875</td>\n",
       "    </tr>\n",
       "    <tr>\n",
       "      <th>1349</th>\n",
       "      <td>4496</td>\n",
       "      <td>3.765795</td>\n",
       "    </tr>\n",
       "  </tbody>\n",
       "</table>\n",
       "<p>1350 rows × 2 columns</p>\n",
       "</div>"
      ],
      "text/plain": [
       "      Movie_ID      Mean\n",
       "0            3  3.621391\n",
       "1            8  3.136795\n",
       "2           16  3.081843\n",
       "3           17  2.909964\n",
       "4           18  3.767597\n",
       "...        ...       ...\n",
       "1345      4488  3.540236\n",
       "1346      4490  3.161849\n",
       "1347      4492  2.652510\n",
       "1348      4493  3.164875\n",
       "1349      4496  3.765795\n",
       "\n",
       "[1350 rows x 2 columns]"
      ]
     },
     "execution_count": 20,
     "metadata": {},
     "output_type": "execute_result"
    }
   ],
   "source": [
    "mean_rating = rating_df.groupby('Movie_ID')['Rating'].mean().reset_index(name='Mean')\n",
    "mean_rating"
   ]
  },
  {
   "cell_type": "markdown",
   "metadata": {},
   "source": [
    "Sắp xếp lại dataframe theo cột mean và lựa chọn ra top 10 phim được đánh giá cao nhất"
   ]
  },
  {
   "cell_type": "code",
   "execution_count": 21,
   "metadata": {},
   "outputs": [
    {
     "data": {
      "text/html": [
       "<div>\n",
       "<style scoped>\n",
       "    .dataframe tbody tr th:only-of-type {\n",
       "        vertical-align: middle;\n",
       "    }\n",
       "\n",
       "    .dataframe tbody tr th {\n",
       "        vertical-align: top;\n",
       "    }\n",
       "\n",
       "    .dataframe thead th {\n",
       "        text-align: right;\n",
       "    }\n",
       "</style>\n",
       "<table border=\"1\" class=\"dataframe\">\n",
       "  <thead>\n",
       "    <tr style=\"text-align: right;\">\n",
       "      <th></th>\n",
       "      <th>Movie_ID</th>\n",
       "      <th>Mean</th>\n",
       "    </tr>\n",
       "  </thead>\n",
       "  <tbody>\n",
       "    <tr>\n",
       "      <th>1038</th>\n",
       "      <td>3456</td>\n",
       "      <td>4.665432</td>\n",
       "    </tr>\n",
       "    <tr>\n",
       "      <th>630</th>\n",
       "      <td>2102</td>\n",
       "      <td>4.589824</td>\n",
       "    </tr>\n",
       "    <tr>\n",
       "      <th>1034</th>\n",
       "      <td>3444</td>\n",
       "      <td>4.520766</td>\n",
       "    </tr>\n",
       "    <tr>\n",
       "      <th>452</th>\n",
       "      <td>1476</td>\n",
       "      <td>4.461601</td>\n",
       "    </tr>\n",
       "    <tr>\n",
       "      <th>1269</th>\n",
       "      <td>4238</td>\n",
       "      <td>4.457774</td>\n",
       "    </tr>\n",
       "    <tr>\n",
       "      <th>781</th>\n",
       "      <td>2568</td>\n",
       "      <td>4.456026</td>\n",
       "    </tr>\n",
       "    <tr>\n",
       "      <th>396</th>\n",
       "      <td>1256</td>\n",
       "      <td>4.449168</td>\n",
       "    </tr>\n",
       "    <tr>\n",
       "      <th>1329</th>\n",
       "      <td>4427</td>\n",
       "      <td>4.436258</td>\n",
       "    </tr>\n",
       "    <tr>\n",
       "      <th>746</th>\n",
       "      <td>2452</td>\n",
       "      <td>4.431489</td>\n",
       "    </tr>\n",
       "    <tr>\n",
       "      <th>595</th>\n",
       "      <td>1947</td>\n",
       "      <td>4.428943</td>\n",
       "    </tr>\n",
       "  </tbody>\n",
       "</table>\n",
       "</div>"
      ],
      "text/plain": [
       "      Movie_ID      Mean\n",
       "1038      3456  4.665432\n",
       "630       2102  4.589824\n",
       "1034      3444  4.520766\n",
       "452       1476  4.461601\n",
       "1269      4238  4.457774\n",
       "781       2568  4.456026\n",
       "396       1256  4.449168\n",
       "1329      4427  4.436258\n",
       "746       2452  4.431489\n",
       "595       1947  4.428943"
      ]
     },
     "execution_count": 21,
     "metadata": {},
     "output_type": "execute_result"
    }
   ],
   "source": [
    "mean_rating = mean_rating.sort_values(by='Mean', ascending=False)[0:10]\n",
    "mean_rating"
   ]
  },
  {
   "cell_type": "markdown",
   "metadata": {},
   "source": [
    "##### **Bước 2:** Vẽ biểu đồ cột ngang để có cái nhìn trực quan"
   ]
  },
  {
   "cell_type": "code",
   "execution_count": 22,
   "metadata": {},
   "outputs": [
    {
     "data": {
      "image/png": "[encoded data removed]",
      "text/plain": [
       "<Figure size 1500x1000 with 1 Axes>"
      ]
     },
     "metadata": {},
     "output_type": "display_data"
    }
   ],
   "source": [
    "plt.figure(figsize=(15, 10))\n",
    "plt.barh(movie_df.loc[movie_df['Movie_ID'].isin(mean_rating[\"Movie_ID\"]), 'Name'], mean_rating[\"Mean\"])\n",
    "plt.xlabel('Đánh giá trung bình')\n",
    "plt.ylabel('Tên phim')\n",
    "plt.title('Đánh giá trung bình mỗi phim')\n",
    "plt.gca().invert_yaxis()\n",
    "plt.locator_params(axis='x', nbins=20)\n",
    "plt.grid(True)\n",
    "plt.show()"
   ]
  },
  {
   "cell_type": "markdown",
   "metadata": {},
   "source": [
    "**Nhận xét:**\n",
    "- Trong top 10 phim có điểm đánh giá trung bình cao nhất thì tất cả đều có điểm số trên 4.3, một con số cao thể hiện sự yêu thích lớn của khán giả đối với 10 bộ phim này.\n",
    "- Phim được đánh giá trung bình cao nhất là \"The Best of Friend: Vol. 4\" với điểm trung bình khoảng 4.7\n",
    "- Các phim được đánh giá cao thông thường như hài kịch và hành động. Có thể thấy, người xem có xu hướng thích và đánh giá cao các phim ở hai thể loại này do sự dễ tiếp cận ở các đối tượng khán giả và sự cuốn hút, hấp dẫn mà 2 thể loại phim này mang đến.\n",
    "- Tuy nhiên, vẫn có các phim thuộc các thể loại khác, mỗi bộ phim đều có sức hấp dẫn riêng, thu hút một đối tượng khán giả đa dạng. Điều này phản ánh sự đa dạng và sự phong phú của sở thích giải trí của khán giả.\n",
    "- Từ các thông tin trên, các nhà làm phim và phát hành phim có thể đưa ra cái nhìn khách quan về xu hướng và sở thích của người xem, từ đó phát hành phim với các thể loại theo thị yếu người dùng. Ngoài ra, còn có thể xây dựng các hệ thống đề xuất, giới thiệu đến người xem mới các phim được đánh giá cao nhằm phục vụ và giúp người xem có trải nghiệm tốt nhất.\n",
    "- Còn người dùng có thể tham khảo những đánh giá trên để lựa chọn những bộ phim phù hợp với sở thích cá nhân hoặc khám phá thêm những thể loại mới thông qua những phim được đánh giá cao từ những người xem trước."
   ]
  },
  {
   "cell_type": "markdown",
   "metadata": {},
   "source": [
    "#### 📚 **Câu 3:  Số điểm đánh giá phim trung bình qua mỗi năm thay đổi như thế nào?**"
   ]
  },
  {
   "cell_type": "markdown",
   "metadata": {},
   "source": [
    "##### **Bước 1:** Tính số điểm đánh giá trung bình của phim qua mỗi năm"
   ]
  },
  {
   "cell_type": "markdown",
   "metadata": {},
   "source": [
    "Sử dụng merge ghép 2 dataframe lại với nhau để nhóm các phim thuộc các năm tương ứng lại với nhau."
   ]
  },
  {
   "cell_type": "code",
   "execution_count": 23,
   "metadata": {},
   "outputs": [
    {
     "data": {
      "text/html": [
       "<div>\n",
       "<style scoped>\n",
       "    .dataframe tbody tr th:only-of-type {\n",
       "        vertical-align: middle;\n",
       "    }\n",
       "\n",
       "    .dataframe tbody tr th {\n",
       "        vertical-align: top;\n",
       "    }\n",
       "\n",
       "    .dataframe thead th {\n",
       "        text-align: right;\n",
       "    }\n",
       "</style>\n",
       "<table border=\"1\" class=\"dataframe\">\n",
       "  <thead>\n",
       "    <tr style=\"text-align: right;\">\n",
       "      <th></th>\n",
       "      <th>User_ID</th>\n",
       "      <th>Rating</th>\n",
       "      <th>Movie_ID</th>\n",
       "      <th>Year</th>\n",
       "      <th>Name</th>\n",
       "    </tr>\n",
       "  </thead>\n",
       "  <tbody>\n",
       "    <tr>\n",
       "      <th>0</th>\n",
       "      <td>712664</td>\n",
       "      <td>5</td>\n",
       "      <td>3</td>\n",
       "      <td>1997</td>\n",
       "      <td>Character</td>\n",
       "    </tr>\n",
       "    <tr>\n",
       "      <th>1</th>\n",
       "      <td>1331154</td>\n",
       "      <td>4</td>\n",
       "      <td>3</td>\n",
       "      <td>1997</td>\n",
       "      <td>Character</td>\n",
       "    </tr>\n",
       "    <tr>\n",
       "      <th>2</th>\n",
       "      <td>2632461</td>\n",
       "      <td>3</td>\n",
       "      <td>3</td>\n",
       "      <td>1997</td>\n",
       "      <td>Character</td>\n",
       "    </tr>\n",
       "    <tr>\n",
       "      <th>3</th>\n",
       "      <td>44937</td>\n",
       "      <td>5</td>\n",
       "      <td>3</td>\n",
       "      <td>1997</td>\n",
       "      <td>Character</td>\n",
       "    </tr>\n",
       "    <tr>\n",
       "      <th>4</th>\n",
       "      <td>656399</td>\n",
       "      <td>4</td>\n",
       "      <td>3</td>\n",
       "      <td>1997</td>\n",
       "      <td>Character</td>\n",
       "    </tr>\n",
       "    <tr>\n",
       "      <th>...</th>\n",
       "      <td>...</td>\n",
       "      <td>...</td>\n",
       "      <td>...</td>\n",
       "      <td>...</td>\n",
       "      <td>...</td>\n",
       "    </tr>\n",
       "    <tr>\n",
       "      <th>17337453</th>\n",
       "      <td>520675</td>\n",
       "      <td>3</td>\n",
       "      <td>4496</td>\n",
       "      <td>1993</td>\n",
       "      <td>Farewell My Concubine</td>\n",
       "    </tr>\n",
       "    <tr>\n",
       "      <th>17337454</th>\n",
       "      <td>1055714</td>\n",
       "      <td>5</td>\n",
       "      <td>4496</td>\n",
       "      <td>1993</td>\n",
       "      <td>Farewell My Concubine</td>\n",
       "    </tr>\n",
       "    <tr>\n",
       "      <th>17337455</th>\n",
       "      <td>2643029</td>\n",
       "      <td>4</td>\n",
       "      <td>4496</td>\n",
       "      <td>1993</td>\n",
       "      <td>Farewell My Concubine</td>\n",
       "    </tr>\n",
       "    <tr>\n",
       "      <th>17337456</th>\n",
       "      <td>1559566</td>\n",
       "      <td>3</td>\n",
       "      <td>4496</td>\n",
       "      <td>1993</td>\n",
       "      <td>Farewell My Concubine</td>\n",
       "    </tr>\n",
       "    <tr>\n",
       "      <th>17337457</th>\n",
       "      <td>293198</td>\n",
       "      <td>3</td>\n",
       "      <td>4496</td>\n",
       "      <td>1993</td>\n",
       "      <td>Farewell My Concubine</td>\n",
       "    </tr>\n",
       "  </tbody>\n",
       "</table>\n",
       "<p>17337458 rows × 5 columns</p>\n",
       "</div>"
      ],
      "text/plain": [
       "          User_ID  Rating Movie_ID  Year                   Name\n",
       "0          712664       5        3  1997              Character\n",
       "1         1331154       4        3  1997              Character\n",
       "2         2632461       3        3  1997              Character\n",
       "3           44937       5        3  1997              Character\n",
       "4          656399       4        3  1997              Character\n",
       "...           ...     ...      ...   ...                    ...\n",
       "17337453   520675       3     4496  1993  Farewell My Concubine\n",
       "17337454  1055714       5     4496  1993  Farewell My Concubine\n",
       "17337455  2643029       4     4496  1993  Farewell My Concubine\n",
       "17337456  1559566       3     4496  1993  Farewell My Concubine\n",
       "17337457   293198       3     4496  1993  Farewell My Concubine\n",
       "\n",
       "[17337458 rows x 5 columns]"
      ]
     },
     "execution_count": 23,
     "metadata": {},
     "output_type": "execute_result"
    }
   ],
   "source": [
    "merge_df = rating_df.merge(movie_df, on='Movie_ID')\n",
    "merge_df"
   ]
  },
  {
   "cell_type": "markdown",
   "metadata": {},
   "source": [
    "Sử dụng groupby để nhóm dữ liệu theo giá trị trong cột `Year`, chọn cột `Rating` và tính trung bình. Giá trị trả về là điểm đánh giá trung bình của tất cả các phim theo từng năm."
   ]
  },
  {
   "cell_type": "code",
   "execution_count": 24,
   "metadata": {},
   "outputs": [
    {
     "data": {
      "text/html": [
       "<div>\n",
       "<style scoped>\n",
       "    .dataframe tbody tr th:only-of-type {\n",
       "        vertical-align: middle;\n",
       "    }\n",
       "\n",
       "    .dataframe tbody tr th {\n",
       "        vertical-align: top;\n",
       "    }\n",
       "\n",
       "    .dataframe thead th {\n",
       "        text-align: right;\n",
       "    }\n",
       "</style>\n",
       "<table border=\"1\" class=\"dataframe\">\n",
       "  <thead>\n",
       "    <tr style=\"text-align: right;\">\n",
       "      <th></th>\n",
       "      <th>Year</th>\n",
       "      <th>Mean</th>\n",
       "    </tr>\n",
       "  </thead>\n",
       "  <tbody>\n",
       "    <tr>\n",
       "      <th>0</th>\n",
       "      <td>1920</td>\n",
       "      <td>3.392012</td>\n",
       "    </tr>\n",
       "    <tr>\n",
       "      <th>1</th>\n",
       "      <td>1925</td>\n",
       "      <td>3.818465</td>\n",
       "    </tr>\n",
       "    <tr>\n",
       "      <th>2</th>\n",
       "      <td>1929</td>\n",
       "      <td>3.684463</td>\n",
       "    </tr>\n",
       "    <tr>\n",
       "      <th>3</th>\n",
       "      <td>1930</td>\n",
       "      <td>3.813087</td>\n",
       "    </tr>\n",
       "    <tr>\n",
       "      <th>4</th>\n",
       "      <td>1931</td>\n",
       "      <td>3.750574</td>\n",
       "    </tr>\n",
       "    <tr>\n",
       "      <th>...</th>\n",
       "      <td>...</td>\n",
       "      <td>...</td>\n",
       "    </tr>\n",
       "    <tr>\n",
       "      <th>68</th>\n",
       "      <td>2001</td>\n",
       "      <td>3.505379</td>\n",
       "    </tr>\n",
       "    <tr>\n",
       "      <th>69</th>\n",
       "      <td>2002</td>\n",
       "      <td>3.437010</td>\n",
       "    </tr>\n",
       "    <tr>\n",
       "      <th>70</th>\n",
       "      <td>2003</td>\n",
       "      <td>3.588864</td>\n",
       "    </tr>\n",
       "    <tr>\n",
       "      <th>71</th>\n",
       "      <td>2004</td>\n",
       "      <td>3.606349</td>\n",
       "    </tr>\n",
       "    <tr>\n",
       "      <th>72</th>\n",
       "      <td>2005</td>\n",
       "      <td>3.669063</td>\n",
       "    </tr>\n",
       "  </tbody>\n",
       "</table>\n",
       "<p>73 rows × 2 columns</p>\n",
       "</div>"
      ],
      "text/plain": [
       "    Year      Mean\n",
       "0   1920  3.392012\n",
       "1   1925  3.818465\n",
       "2   1929  3.684463\n",
       "3   1930  3.813087\n",
       "4   1931  3.750574\n",
       "..   ...       ...\n",
       "68  2001  3.505379\n",
       "69  2002  3.437010\n",
       "70  2003  3.588864\n",
       "71  2004  3.606349\n",
       "72  2005  3.669063\n",
       "\n",
       "[73 rows x 2 columns]"
      ]
     },
     "execution_count": 24,
     "metadata": {},
     "output_type": "execute_result"
    }
   ],
   "source": [
    "average_rate_by_year = merge_df.groupby('Year')['Rating'].mean().reset_index(name='Mean')\n",
    "average_rate_by_year"
   ]
  },
  {
   "cell_type": "markdown",
   "metadata": {},
   "source": [
    "##### **Bước 2:** Trực quan hóa kết quả bằng biểu đồ đường"
   ]
  },
  {
   "cell_type": "code",
   "execution_count": 26,
   "metadata": {},
   "outputs": [
    {
     "data": {
      "image/png": "[encoded data removed]",
      "text/plain": [
       "<Figure size 1500x800 with 1 Axes>"
      ]
     },
     "metadata": {},
     "output_type": "display_data"
    }
   ],
   "source": [
    "plt.figure(figsize=(15, 8))\n",
    "plt.plot(average_rate_by_year[\"Year\"], average_rate_by_year[\"Mean\"], marker='o', linestyle='-')\n",
    "plt.title('Biểu đồ số điểm đánh giá trung bình phim theo năm')\n",
    "plt.xlabel('Năm')\n",
    "plt.ylabel('Điểm đánh giá trung bình')\n",
    "plt.xticks(average_rate_by_year['Year'], rotation=90)\n",
    "plt.grid(True)\n",
    "plt.show()"
   ]
  },
  {
   "cell_type": "markdown",
   "metadata": {},
   "source": [
    "**Nhận xét:**\n",
    "- Điểm đánh giá trung bình phim qua các năm có sự biến động mạnh, tăng giảm đột ngột, không ổn định.\n",
    "- Nhìn chung, với điểm số trung bình thấp nhất là khoảng 3.4, có thể thấy chất lượng các phim không phải quá tệ, ít nhất thuộc nhóm trung bình - khá.\n",
    "- Đánh giá trung bình đạt điểm cao nhất vào các năm \"1939\", \"1954\", \"1974\" với điểm trung bình khoảng 4.1\n",
    "- Ngược lại, đánh giá trung bình đạt điểm thấp nhất vào các năm \"1920\", \"1971\", \"2000\" với điểm trung bình khoảng 3.4\n",
    "- Điểm đánh giá trung bình thay đổi liên tục qua các năm, có xu hướng tăng ở năm trước và giảm ở năm ngay sau đó. Chuỗi tăng hoặc giảm dài nhất cũng chỉ khoảng 3 đến 4 năm.\n",
    "- Xu hướng chung là từ năm 1975 đến 2005, điểm trung bình ở khoảng thời gian này tương đối thấp so với giai đoạn trước đó, luôn ít hơn 3.8\n",
    "- Việc thay đổi liên tục có thể được gây ra là do sự hứng thú và yêu thích các thể loại phim của người hâm mộ cũng thay đổi đa dạng, các thể loại phim giống nhau được phát hành liên tục trong một vài năm có thể gây ra sự nhàm chán cho khán giả. Và khi có sự thay đổi ở thể loại thì sẽ thu hút sự quan tâm của khán giả trong những năm tiếp theo.\n",
    "- Vì thế, có thể thấy được tầm quan trọng của việc thay đổi nội dung và cách làm phim cũng ảnh hưởng rất nhiều đến sự hài lòng và nhu cầu của khán giả. Từ đó, các nhà làm phim và phát hành cần khai thác và nghiên cứu các yếu tố trên để tăng doanh thu, tối đa lợi nhuận cho sản phẩm của mình."
   ]
  }
 ],
 "metadata": {
  "kernelspec": {
   "display_name": "Python 3 (ipykernel)",
   "language": "python",
   "name": "python3"
  },
  "language_info": {
   "codemirror_mode": {
    "name": "ipython",
    "version": 3
   },
   "file_extension": ".py",
   "mimetype": "text/x-python",
   "name": "python",
   "nbconvert_exporter": "python",
   "pygments_lexer": "ipython3",
   "version": "3.11.8"
  }
 },
 "nbformat": 4,
 "nbformat_minor": 4
}
